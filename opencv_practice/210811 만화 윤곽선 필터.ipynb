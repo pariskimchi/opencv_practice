{
 "cells": [
  {
   "cell_type": "code",
   "execution_count": 2,
   "id": "fba18d98",
   "metadata": {},
   "outputs": [],
   "source": [
    "import numpy as np\n",
    "import cv2 \n"
   ]
  },
  {
   "cell_type": "code",
   "execution_count": 6,
   "id": "c3012ece",
   "metadata": {},
   "outputs": [],
   "source": [
    "cap  = cv2.VideoCapture(0) # 카메라 오픈\n",
    "\n",
    "cap.set(3,300)\n",
    "cap.set(4,200)\n",
    "\n",
    "while True:\n",
    "    ret, frame = cap.read()\n",
    "    if ret: #정상 읽기일때만\n",
    "        blr = cv2.blur(frame,(9,9))\n",
    "        gray = cv2.cvtColor(frame,cv2.COLOR_BGR2GRAY)\n",
    "        gray_e = cv2.Canny(gray,50,150) #에지 추출한 결과 이미지 생성\n",
    "        mask = cv2.bitwise_not(gray_e)\n",
    "        dst = cv2.bitwise_and(blr,blr,mask=mask)\n",
    "        k= cv2.waitKey(1)\n",
    "        \n",
    "        cv2.imshow('blr',blr)\n",
    "        cv2.imshow('gray',gray)\n",
    "        cv2.imshow('gray_e',gray_e)\n",
    "        cv2.imshow('mask',mask)\n",
    "        cv2.imshow('dst',dst)\n",
    "        \n",
    "    if k == 27:\n",
    "        break\n",
    "\n",
    "# cv2.imshow('blr',blr)\n",
    "# cv2.imshow('gray',gray)\n",
    "# cv2.imshow('gray_e',gray_e)\n",
    "# cv2.imshow('mask',mask)\n",
    "cap.release()\n",
    "cv2.destroyAllWindows()"
   ]
  },
  {
   "cell_type": "code",
   "execution_count": null,
   "id": "34727601",
   "metadata": {},
   "outputs": [],
   "source": []
  }
 ],
 "metadata": {
  "kernelspec": {
   "display_name": "Python 3",
   "language": "python",
   "name": "python3"
  }
 },
 "nbformat": 4,
 "nbformat_minor": 5
}
