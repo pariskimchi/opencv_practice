{
 "cells": [
  {
   "cell_type": "code",
   "execution_count": 9,
   "id": "ec6f5588",
   "metadata": {},
   "outputs": [],
   "source": [
    "import cv2 \n",
    "import numpy as np\n",
    "import sys"
   ]
  },
  {
   "cell_type": "markdown",
   "id": "ffe1f9fc",
   "metadata": {},
   "source": [
    "## 도전\\\n",
    "1.사진을 찍는다 \\\n",
    "2.찍은 사진을 편집(엠보싱,모션블러,블러,샤프닝,잡티추가,잡티제거)\n"
   ]
  },
  {
   "cell_type": "code",
   "execution_count": 10,
   "id": "44530035",
   "metadata": {},
   "outputs": [],
   "source": [
    "cap = cv2.VideoCapture(0) # 카메라 오픈 \n",
    "\n",
    "if not cap.isOpened():\n",
    "    print('카메라 오픈 안됨')\n",
    "    sys.exit(0)\n",
    "    \n",
    "cap.set(3,300)\n",
    "cap.set(4,200)\n",
    "\n",
    "ret, frame = cap.read()\n",
    "if ret:\n",
    "    cv2.imwrite('work1.jpg',frame) # 카메라 영상 저장 \n",
    "    cv2.imshow('img',frame)\n",
    "    cv2.waitKey(0)\n",
    "    cap.release()\n",
    "    cv2.destroyAllWindows()"
   ]
  },
  {
   "cell_type": "code",
   "execution_count": 11,
   "id": "644d9b26",
   "metadata": {},
   "outputs": [],
   "source": [
    "pic =cv2.imread('work1.jpg',1)\n",
    "\n",
    "cv2.imshow('pic',pic)\n",
    "cv2.waitKey(0)\n",
    "cv2.destroyAllWindows()"
   ]
  },
  {
   "cell_type": "markdown",
   "id": "623dd62a",
   "metadata": {},
   "source": [
    "## 엠보싱 필터링\n",
    "이미지에 음영을 넣어 올록볼록하게 보이도록 하게 하는 필터링"
   ]
  },
  {
   "cell_type": "code",
   "execution_count": 12,
   "id": "a93e0738",
   "metadata": {},
   "outputs": [],
   "source": [
    "kernel = np.array([-1,-1,0,-1,0,1,0,1,1]).reshape(3,3)\n",
    "pic = cv2.imread('work1.jpg',0)\n",
    "dst = cv2.filter2D(pic, -1, kernel, None, (-1,-1),128)\n",
    "cv2.imshow('pic',pic)\n",
    "cv2.imshow('dst',dst)\n",
    "cv2.waitKey(0)\n",
    "cv2.destroyAllWindows()"
   ]
  },
  {
   "cell_type": "markdown",
   "id": "1fb27642",
   "metadata": {},
   "source": [
    "## 모션 블러 필터링\n",
    "카메라 좌우가 흔들린 효과를 만들어줌"
   ]
  },
  {
   "cell_type": "code",
   "execution_count": 13,
   "id": "59f6c347",
   "metadata": {},
   "outputs": [],
   "source": [
    "# 커널 생성 예 \n",
    "size = 5\n",
    "kernel = np.zeros((size,size))\n",
    "kernel[int((size-1)/2),:] = np.ones(size)\n",
    "kernel/size\n",
    "\n",
    "pic = cv2.imread('work1.jpg',0)\n",
    "dst = cv2.filter2D(pic,-1,kernel)\n",
    "cv2.imshow('pic',pic)\n",
    "cv2.imshow('dst',dst)\n",
    "cv2.waitKey(0)\n",
    "cv2.destroyAllWindows()"
   ]
  },
  {
   "cell_type": "markdown",
   "id": "6b9e3bdc",
   "metadata": {},
   "source": [
    "## 블러링 => opencv함수 기능 \n",
    "평균값 필터 함수 => cv2.blur(img,kernelSize)\n"
   ]
  },
  {
   "cell_type": "code",
   "execution_count": 14,
   "id": "86de5009",
   "metadata": {},
   "outputs": [],
   "source": [
    "pic = cv2.imread('work1.jpg',0)\n",
    "dst = cv2.blur(pic,(3,3))\n",
    "cv2.imshow('pic',pic)\n",
    "cv2.imshow('dst',dst)\n",
    "cv2.waitKey(0)\n",
    "cv2.destroyAllWindows()"
   ]
  },
  {
   "cell_type": "markdown",
   "id": "cd052e34",
   "metadata": {},
   "source": [
    "블러링 , 가우시안 필터링:\\\n",
    "cv2.GaussianBlur(img,ksize,sigmaX)\\\n",
    "ksize(w,h): 커널크기\\\n",
    "sigmaX: x방향 가우시안 커널 표준 편차"
   ]
  },
  {
   "cell_type": "code",
   "execution_count": 15,
   "id": "ef3cf550",
   "metadata": {},
   "outputs": [],
   "source": [
    "pic = cv2.imread('work1.jpg',0)\n",
    "cv2.imshow('pic',pic)\n",
    "\n",
    "for i in range(1,6):\n",
    "    dst = cv2.GaussianBlur(pic,(5,5),i)\n",
    "    cv2.imshow('dst'+str(i),dst)\n",
    "    \n",
    "cv2.waitKey(0)\n",
    "cv2.destroyAllWindows()"
   ]
  },
  {
   "cell_type": "markdown",
   "id": "4f322881",
   "metadata": {},
   "source": [
    "샤프닝:\\\n",
    "영상의 윤곽을 뚜렷하고 선명하게 하는 필터링.\\\n",
    "언샤프닝: 샤프닝을 위해서는 블러링된 영상 사용"
   ]
  },
  {
   "cell_type": "code",
   "execution_count": 16,
   "id": "cce99bab",
   "metadata": {},
   "outputs": [],
   "source": [
    "# 칼라 이미지 언샤프닝\n",
    "pic = cv2.imread('work1.jpg')\n",
    "cv2.imshow('pic',pic)\n",
    "\n",
    "blr = cv2.GaussianBlur(pic,(5,5),5)\n",
    "dst = np.clip(2.0*pic-blr, 0, 255).astype('uint8')\n",
    "\n",
    "cv2.imshow('dst',dst)\n",
    "\n",
    "cv2.waitKey(0)\n",
    "cv2.destroyAllWindows()"
   ]
  },
  {
   "cell_type": "code",
   "execution_count": null,
   "id": "62393f6f",
   "metadata": {},
   "outputs": [],
   "source": []
  }
 ],
 "metadata": {
  "kernelspec": {
   "display_name": "Python 3",
   "language": "python",
   "name": "python3"
  },
  "language_info": {
   "codemirror_mode": {
    "name": "ipython",
    "version": 3
   },
   "file_extension": ".py",
   "mimetype": "text/x-python",
   "name": "python",
   "nbconvert_exporter": "python",
   "pygments_lexer": "ipython3",
   "version": "3.7.7"
  }
 },
 "nbformat": 4,
 "nbformat_minor": 5
}
