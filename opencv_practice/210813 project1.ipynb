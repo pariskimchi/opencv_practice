{
 "cells": [
  {
   "cell_type": "code",
   "execution_count": null,
   "id": "072e1439",
   "metadata": {},
   "outputs": [],
   "source": [
    "import pickle \n",
    "import cv2 \n",
    "import sys \n",
    "import time \n",
    "import numpy as np\n",
    "from PIL import Image\n",
    "from PIL import ImageDraw\n",
    "from PIL import ImageFont\n",
    "import platform\n",
    "\n",
    "cap = cv2.VideoCapture(0)\n",
    "\n",
    "if not cap.isOpened():\n",
    "    print('Could not open webcam')\n",
    "    exit()\n",
    "    \n",
    "sample_num = 0\n",
    "captured_num = 0\n",
    "\n",
    "while cap.isOpened():\n",
    "    \n",
    "    # read frame from cap \n",
    "    ret, frame = cap.read()\n",
    "    sample_num = sample_num +1\n",
    "    \n",
    "    if not ret:\n",
    "        break\n",
    "    \n",
    "    cv2.imshow('cap',frame)\n",
    "    \n",
    "cap.release()    \n",
    "cv2.destroyAllWindows()"
   ]
  }
 ],
 "metadata": {
  "kernelspec": {
   "display_name": "Python 3",
   "language": "python",
   "name": "python3"
  },
  "language_info": {
   "codemirror_mode": {
    "name": "ipython",
    "version": 3
   },
   "file_extension": ".py",
   "mimetype": "text/x-python",
   "name": "python",
   "nbconvert_exporter": "python",
   "pygments_lexer": "ipython3",
   "version": "3.7.7"
  }
 },
 "nbformat": 4,
 "nbformat_minor": 5
}
