{
 "cells": [
  {
   "cell_type": "code",
   "execution_count": 2,
   "id": "3623a19e",
   "metadata": {},
   "outputs": [],
   "source": [
    "import numpy as np\n",
    "import cv2 \n",
    "import sys \n",
    "import time\n",
    "import datetime\n",
    "import threading"
   ]
  },
  {
   "cell_type": "code",
   "execution_count": 8,
   "id": "50bf2233",
   "metadata": {},
   "outputs": [],
   "source": [
    "# 카메라 오픈\n",
    "cap = cv2.VideoCapture(0)\n",
    "codec = cv2.VideoWriter_fourcc(*'DIVX')\n",
    "\n",
    "if not cap.isOpened():\n",
    "    print('카메라 오픈 안됨')\n",
    "    sys.exit(0)\n",
    "    \n",
    "cap.set(3,300)\n",
    "cap.set(4,200)\n",
    "\n",
    "\n",
    "tm = cv2.TickMeter()\n",
    "\n",
    "\n",
    "out = cv2.VideoWriter('project/project.avi',codec,25.0, (640,480))\n",
    "\n",
    "sec = tm.getTimeSec()\n",
    "#GFTT\n",
    "# 시간 측정 시작\n",
    "\n",
    "while cap.isOpened():\n",
    "    ret, frame = cap.read()\n",
    "    if ret:\n",
    "        tm.start()\n",
    "        \n",
    "        cv2.imshow('frame',frame)\n",
    "        if sec == 10:\n",
    "            tm.stop()\n",
    "            tm.reset()\n",
    "            out.write(frame)\n",
    "            tm.start()\n",
    "            \n",
    "            \n",
    "        elif cv2.waitKey(1) & 0xFF == ord('q'):\n",
    "            break\n",
    "                \n",
    "#         else:\n",
    "#             break\n",
    "                        \n",
    "cap.release()\n",
    "out.release()\n",
    "cv2.destroyAllWindows()\n"
   ]
  },
  {
   "cell_type": "code",
   "execution_count": 1,
   "id": "14b8eb47",
   "metadata": {
    "scrolled": true
   },
   "outputs": [
    {
     "ename": "AttributeError",
     "evalue": "'numpy.ndarray' object has no attribute 'set'",
     "output_type": "error",
     "traceback": [
      "\u001b[1;31m---------------------------------------------------------------------------\u001b[0m",
      "\u001b[1;31mAttributeError\u001b[0m                            Traceback (most recent call last)",
      "\u001b[1;32m<ipython-input-1-707b27c46cd7>\u001b[0m in \u001b[0;36m<module>\u001b[1;34m\u001b[0m\n\u001b[0;32m     29\u001b[0m     \u001b[1;31m# 몇 초 마다 한번씩 캡쳐를 하고 싶은지 지정\u001b[0m\u001b[1;33m\u001b[0m\u001b[1;33m\u001b[0m\u001b[1;33m\u001b[0m\u001b[0m\n\u001b[0;32m     30\u001b[0m     \u001b[0mincrease_width\u001b[0m \u001b[1;33m=\u001b[0m \u001b[1;36m10\u001b[0m\u001b[1;33m\u001b[0m\u001b[1;33m\u001b[0m\u001b[0m\n\u001b[1;32m---> 31\u001b[1;33m     \u001b[0mframe\u001b[0m\u001b[1;33m.\u001b[0m\u001b[0mset\u001b[0m\u001b[1;33m(\u001b[0m\u001b[0mcv2\u001b[0m\u001b[1;33m.\u001b[0m\u001b[0mCAP_PROP_POS_MSEC\u001b[0m\u001b[1;33m,\u001b[0m\u001b[0msecond\u001b[0m\u001b[1;33m*\u001b[0m\u001b[1;36m1000\u001b[0m\u001b[1;33m)\u001b[0m\u001b[1;33m\u001b[0m\u001b[1;33m\u001b[0m\u001b[0m\n\u001b[0m\u001b[0;32m     32\u001b[0m     \u001b[1;32mif\u001b[0m \u001b[0mret\u001b[0m\u001b[1;33m:\u001b[0m\u001b[1;33m\u001b[0m\u001b[1;33m\u001b[0m\u001b[0m\n\u001b[0;32m     33\u001b[0m         \u001b[0mnum\u001b[0m \u001b[1;33m+=\u001b[0m \u001b[1;36m1\u001b[0m\u001b[1;33m\u001b[0m\u001b[1;33m\u001b[0m\u001b[0m\n",
      "\u001b[1;31mAttributeError\u001b[0m: 'numpy.ndarray' object has no attribute 'set'"
     ]
    }
   ],
   "source": [
    "import numpy as np\n",
    "import cv2 \n",
    "import sys \n",
    "import time\n",
    "import datetime\n",
    "import threading\n",
    "\n",
    "\n",
    "# 카메라 오픈\n",
    "cap = cv2.VideoCapture(0)\n",
    "codec = cv2.VideoWriter_fourcc(*'DIVX')\n",
    "\n",
    "\n",
    "date_string = datetime.datetime.now().strftime(\"%Y-%m-%d  %I.%M.%S%p   %A\")\n",
    "\n",
    "out = cv2.VideoWriter(date_string+'.avi',codec, 25.0, (640,480))\n",
    "\n",
    "fps = cap.get(cv2.CAP_PROP_FPS)\n",
    "\n",
    "frame_count = cap.get(cv2.CAP_PROP_FRAME_COUNT)\n",
    "\n",
    "duration  = frame_count/ fps\n",
    "\n",
    "second =0\n",
    "num = 0\n",
    "\n",
    "cap.set(cv2.CAP_PROP_POS_MSEC, second * 1000)\n",
    "while cap.isOpened():\n",
    "    num += 1\n",
    "    second += increase_width\n",
    "    ret, frame = cap.read()\n",
    "    # 몇 초 마다 한번씩 캡쳐를 하고 싶은지 지정\n",
    "    increase_width = 10\n",
    "    if ret:\n",
    "        \n",
    "        cv2.imshow('frame',frame)      \n",
    "        if cv2.waitKey(1) & 0xFF == ord('q'):\n",
    "            break\n",
    "            \n",
    "    else:\n",
    "        break\n",
    "              \n",
    "# tm.stop()\n",
    "\n",
    "# print('time:',(time.time()- t1)*1000)\n",
    "# print('Eleapsed time:{}'.format(tm.getTimeSec()))\n",
    "cap.release()\n",
    "out.release()\n",
    "cv2.destroyAllWindows()\n"
   ]
  },
  {
   "cell_type": "code",
   "execution_count": null,
   "id": "3e98b53f",
   "metadata": {},
   "outputs": [],
   "source": []
  }
 ],
 "metadata": {
  "kernelspec": {
   "display_name": "Python 3",
   "language": "python",
   "name": "python3"
  },
  "language_info": {
   "codemirror_mode": {
    "name": "ipython",
    "version": 3
   },
   "file_extension": ".py",
   "mimetype": "text/x-python",
   "name": "python",
   "nbconvert_exporter": "python",
   "pygments_lexer": "ipython3",
   "version": "3.7.7"
  }
 },
 "nbformat": 4,
 "nbformat_minor": 5
}
