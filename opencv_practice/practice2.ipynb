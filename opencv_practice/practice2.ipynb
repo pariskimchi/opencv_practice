{
 "cells": [
  {
   "cell_type": "code",
   "execution_count": 2,
   "id": "7f05e4fe",
   "metadata": {},
   "outputs": [],
   "source": [
    "import numpy as np\n",
    "import cv2 \n",
    "import sys"
   ]
  },
  {
   "cell_type": "markdown",
   "id": "63e3b71b",
   "metadata": {},
   "source": [
    "## 카메라 제어"
   ]
  },
  {
   "cell_type": "code",
   "execution_count": 4,
   "id": "e3d615bd",
   "metadata": {},
   "outputs": [
    {
     "name": "stdout",
     "output_type": "stream",
     "text": [
      "영상 가로길이: 320.0\n",
      "영상 세로길이: 240.0\n"
     ]
    }
   ],
   "source": [
    "# 카메라 오픈 \n",
    "\n",
    "cap = cv2.VideoCapture(0) #카메라 오픈\n",
    "\n",
    "if not cap.isOpened(): # cap.isOpen()=> 카메라 정상 오픈이면 True, 아니면 False\n",
    "    print('카메라 오픈 안됨')\n",
    "    sys.exit(0)\n",
    "    \n",
    "    \n",
    "cap.set(3,300) #카메라 영상의 가로 길이를 300으로 변경 \n",
    "cap.set(4,200) #카메라 영상의 세로 길이를 200으로 변경 \n",
    "\n",
    "print('영상 가로길이:',cap.get(3))\n",
    "print('영상 세로길이:',cap.get(4))\n",
    "\n",
    "# 카메라 영상 읽기, ret:처리결과(True,Falses) \n",
    "ret, frame = cap.read()\n",
    "if ret:\n",
    "    cv2.imwrite('cap1.jpg',frame) # 카메라 영상 저장\n",
    "    cv2.imshow('img',frame) #영상을 윈도우에 출력\n",
    "    \n",
    "    cv2.waitKey(0)\n",
    "    cap.release()\n",
    "    cv2.destroyAllWindows()"
   ]
  },
  {
   "cell_type": "markdown",
   "id": "7b74efc3",
   "metadata": {},
   "source": [
    "## 동영상 찍기 - 저장안함\n",
    "카메라로 읽은 영상을 그대로 출력"
   ]
  },
  {
   "cell_type": "code",
   "execution_count": 5,
   "id": "a458a266",
   "metadata": {},
   "outputs": [],
   "source": [
    "#카메라 오픈 \n",
    "cap = cv2.VideoCapture(0)\n",
    "\n",
    "cap.set(3,300)\n",
    "cap.set(4,200)\n",
    "while True:\n",
    "    ret,frame = cap.read()\n",
    "    if ret: # 정상 읽기 일때만\n",
    "        cv2.imshow('img',frame) # 영상을 윈도우에 출력\n",
    "    k = cv2.waitKey(1)\n",
    "    if k==27: #입력한 키가 esc이면 \n",
    "        break\n",
    "        \n",
    "cap.release()\n",
    "cv2.destroyAllWindows()"
   ]
  },
  {
   "cell_type": "markdown",
   "id": "5388c764",
   "metadata": {},
   "source": [
    "## 동영상 찍기 -저장\n",
    "cv2.VideoWriter('파일명',코덱종류,초당프레임수,가로세로 크기)- 영상 저장\n",
    "cv2.VideoWriter_fourcc(*'DIVX')- 사용할 코덱 지정"
   ]
  },
  {
   "cell_type": "code",
   "execution_count": 3,
   "id": "43090a61",
   "metadata": {},
   "outputs": [],
   "source": [
    "cap = cv2.VideoCapture(0) #카메라 오픈 \n",
    "codec = cv2.VideoWriter_fourcc(*'DIVX') #사용할 코덱 생성\n",
    "\n",
    "#동영상 작성자 객체 생성 \n",
    "out = cv2.VideoWriter('ab.avi',codec,25.0,(640,480))\n",
    "while cap.isOpened(): # 카메라 정상 오픈일떄 동작\n",
    "    ret, frame = cap.read() # 카메라 영상 읽기\n",
    "    if ret: # abs읽기가 정상이면 \n",
    "        \n",
    "        edge = cv2.Canny(frame,50,150) # 윤곽선\n",
    "        \n",
    "        edge_color =cv2.cvtColor(edge,cv2.COLOR_GRAY2BGR)\n",
    "        \n",
    "        \n",
    "        \n",
    "        out.write(edge_color) #동영상 작성\n",
    "        cv2.imshow('frame',frame) # 현재 frame을 윈도우에 출력\n",
    "        cv2.imshow('edge',edge)\n",
    "        if cv2.waitKey(1) & 0xFF == ord('q'): # q입력시 종료\n",
    "            break\n",
    "    else:\n",
    "        break\n",
    "        \n",
    "cap.release()\n",
    "out.release()\n",
    "cv2.destroyAllWindows()"
   ]
  },
  {
   "cell_type": "markdown",
   "id": "e450b30f",
   "metadata": {},
   "source": [
    "## 찍은 영상 실행"
   ]
  },
  {
   "cell_type": "code",
   "execution_count": 13,
   "id": "410157ad",
   "metadata": {},
   "outputs": [],
   "source": [
    "cap = cv2.VideoCapture('ab.avi') #동영상 파일 오픈 \n",
    "while cap.isOpened(): # 동영상 파일이 정상 오픈이면\n",
    "    ret,frame = cap.read()\n",
    "    if not ret:\n",
    "        break\n",
    "    cv2.imshow('a.avi',frame) #읽은 frame을 윈도우에 출력\n",
    "    if cv2.waitKey(42) & 0xFF == ord('q'): #q 입력시 종료\n",
    "        break\n",
    "\n",
    "cap.release()\n",
    "cv2.destroyAllWindows()"
   ]
  },
  {
   "cell_type": "code",
   "execution_count": null,
   "id": "ab8b48a8",
   "metadata": {},
   "outputs": [],
   "source": []
  }
 ],
 "metadata": {
  "kernelspec": {
   "display_name": "Python 3",
   "language": "python",
   "name": "python3"
  },
  "language_info": {
   "codemirror_mode": {
    "name": "ipython",
    "version": 3
   },
   "file_extension": ".py",
   "mimetype": "text/x-python",
   "name": "python",
   "nbconvert_exporter": "python",
   "pygments_lexer": "ipython3",
   "version": "3.7.7"
  }
 },
 "nbformat": 4,
 "nbformat_minor": 5
}
