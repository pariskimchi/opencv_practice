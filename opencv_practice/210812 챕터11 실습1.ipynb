{
 "cells": [
  {
   "cell_type": "markdown",
   "id": "b3b3b9f7",
   "metadata": {},
   "source": [
    "과제: 다각형 앨범\\\n",
    "\n",
    "각 도형을 추출해서 roi선별해서\\\n",
    "for i in list: 도형 이미지 하나씩 추출 , 추출한 도형과 매칭이 되는 위치를 찾아서\\\n",
    "거기에 본인 사진 이미지 합성 결과 이미지 출력\n"
   ]
  },
  {
   "cell_type": "code",
   "execution_count": 24,
   "id": "81ecc710",
   "metadata": {},
   "outputs": [
    {
     "name": "stdout",
     "output_type": "stream",
     "text": [
      "0\n"
     ]
    }
   ],
   "source": [
    "import sys \n",
    "import numpy as np\n",
    "import cv2 \n",
    "\n",
    "shapes = []\n",
    "polygon = cv2.imread('polygon.bmp') # 도형들 이미지를 컬러로 읽음\n",
    "polygon_gray = cv2.cvtColor(polygon,cv2.COLOR_BGR2GRAY)\n",
    "# _,img_binary = cv2.threshold(polygon_gray, 0,255,cv2.THRESH_BINARY)\n",
    "# _, img_otsu = cv2.threshold(polygon_gray, 0,255,cv2.THRESH_OTSU)\n",
    "_, th = cv2.threshold(polygon_gray, 0,255,cv2.THRESH_BINARY|cv2.THRESH_OTSU)\n",
    "\n",
    "contours, _ = cv2.findContours(th, cv2.RETR_EXTERNAL, cv2.CHAIN_APPROX_SIMPLE)\n",
    "\n",
    "for cont in contours:\n",
    "    area = cv2.contourArea(cont)\n",
    "    \n",
    "    if area > 1000:\n",
    "        x,y,w,h = cv2.boundingRect(cont)\n",
    "        cv2.rectangle(polygon, (x,y), (x+w, y+h), (0,0,255),2)\n",
    "        roi = polygon[y:y+h,x:x+w]\n",
    "        shapes.append(roi)\n",
    "\n",
    "for i in range(len(shapes)):\n",
    "    print(i)\n",
    "    cv2.imshow('sh'+str(i), shapes[i])\n",
    "\n",
    "features  = cv2.ORB_create()# 특징점 검출기 생성\n",
    "matcher = cv2.BFMatcher_create(cv2.NORM_HAMMING)\n",
    "\n",
    "#원본 이미지의 특징점과 기술자\n",
    "pt1, disc1 = feature.detectAndCompute(polygon_gray, None)\n",
    "\n",
    "\n",
    "for sh in shapes:\n",
    "    sh_g = cv2.cvtColor(sh, cv2.BGR2GRAY)\n",
    "    pt2, disc2 = feature.detectAndCompute(sh_g, None)\n",
    "    res= matcher.\n",
    "\n",
    "\n",
    "# cv2.imshow('polygon',polygon)\n",
    "# cv2.imshow('otsu',img_otsu)\n",
    "# cv2.imshow('th',th)\n",
    "# cv2.imshow('img_binary',img_binary)\n",
    "# cv2.imshow('polygon',polygon)\n",
    "cv2.waitKey()\n",
    "cv2.destroyAllWindows()\n"
   ]
  },
  {
   "cell_type": "code",
   "execution_count": null,
   "id": "0bac6ab7",
   "metadata": {},
   "outputs": [],
   "source": []
  }
 ],
 "metadata": {
  "kernelspec": {
   "display_name": "Python 3",
   "language": "python",
   "name": "python3"
  },
  "language_info": {
   "codemirror_mode": {
    "name": "ipython",
    "version": 3
   },
   "file_extension": ".py",
   "mimetype": "text/x-python",
   "name": "python",
   "nbconvert_exporter": "python",
   "pygments_lexer": "ipython3",
   "version": "3.7.7"
  }
 },
 "nbformat": 4,
 "nbformat_minor": 5
}
