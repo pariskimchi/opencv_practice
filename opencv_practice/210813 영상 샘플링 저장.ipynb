{
 "cells": [
  {
   "cell_type": "code",
   "execution_count": 1,
   "id": "6ba467d1",
   "metadata": {},
   "outputs": [],
   "source": [
    "import cv2 \n",
    "\n",
    "# open cam \n",
    "cap = cv2.VideoCapture(0)\n",
    "\n",
    "if not cap.isOpened():\n",
    "    print('Could not open cam')\n",
    "    exit()\n",
    "    \n",
    "\n",
    "sample_num =0 \n",
    "captured_num = 0\n",
    "\n",
    "while cap.isOpened():\n",
    "    \n",
    "    # read frame\n",
    "    ret, frame = cap.read()\n",
    "    sample_num = sample_num +1\n",
    "    \n",
    "    if not ret:\n",
    "        break\n",
    "    \n",
    "    # display output\n",
    "    cv2.imshow('captured frame',frame)\n",
    "    \n",
    "    if sample_num == 4:\n",
    "        captured_num = captured_num +1\n",
    "        cv2.imwrite('./samples/project'+str(captured_num)+'.jpg',frame)\n",
    "        sample_num = 0 \n",
    "        \n",
    "    if cv2.waitKey(1) & 0xFF == ord('q'):\n",
    "        break\n",
    "\n",
    "cap.release()\n",
    "cv2.destroyAllWindows()\n"
   ]
  },
  {
   "cell_type": "code",
   "execution_count": null,
   "id": "7049576c",
   "metadata": {},
   "outputs": [],
   "source": []
  }
 ],
 "metadata": {
  "kernelspec": {
   "display_name": "Python 3",
   "language": "python",
   "name": "python3"
  },
  "language_info": {
   "codemirror_mode": {
    "name": "ipython",
    "version": 3
   },
   "file_extension": ".py",
   "mimetype": "text/x-python",
   "name": "python",
   "nbconvert_exporter": "python",
   "pygments_lexer": "ipython3",
   "version": "3.7.7"
  }
 },
 "nbformat": 4,
 "nbformat_minor": 5
}
