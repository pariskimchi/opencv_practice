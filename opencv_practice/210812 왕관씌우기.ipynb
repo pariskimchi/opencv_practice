{
 "cells": [
  {
   "cell_type": "code",
   "execution_count": 1,
   "id": "3d0119dc",
   "metadata": {},
   "outputs": [],
   "source": [
    "import numpy as np\n",
    "import cv2 \n",
    "import sys \n",
    "import matplotlib.pyplot as plt"
   ]
  },
  {
   "cell_type": "code",
   "execution_count": 4,
   "id": "e029b03b",
   "metadata": {},
   "outputs": [
    {
     "ename": "error",
     "evalue": "OpenCV(4.4.0) C:\\Users\\appveyor\\AppData\\Local\\Temp\\1\\pip-req-build-6sxsq0tp\\opencv\\modules\\core\\src\\arithm.cpp:669: error: (-209:Sizes of input arguments do not match) The operation is neither 'array op array' (where arrays have the same size and the same number of channels), nor 'array op scalar', nor 'scalar op array' in function 'cv::arithm_op'\n",
     "output_type": "error",
     "traceback": [
      "\u001b[1;31m---------------------------------------------------------------------------\u001b[0m",
      "\u001b[1;31merror\u001b[0m                                     Traceback (most recent call last)",
      "\u001b[1;32m<ipython-input-4-b3a673fcdf35>\u001b[0m in \u001b[0;36m<module>\u001b[1;34m\u001b[0m\n\u001b[0;32m     40\u001b[0m         \u001b[0mroi\u001b[0m \u001b[1;33m=\u001b[0m \u001b[0mcv2\u001b[0m\u001b[1;33m.\u001b[0m\u001b[0mbitwise_and\u001b[0m\u001b[1;33m(\u001b[0m\u001b[0mcr_roi\u001b[0m\u001b[1;33m,\u001b[0m \u001b[0mcr_roi\u001b[0m\u001b[1;33m,\u001b[0m\u001b[0mmask_inv\u001b[0m\u001b[1;33m)\u001b[0m\u001b[1;33m\u001b[0m\u001b[1;33m\u001b[0m\u001b[0m\n\u001b[0;32m     41\u001b[0m         \u001b[0mcrown\u001b[0m \u001b[1;33m=\u001b[0m \u001b[0mcv2\u001b[0m\u001b[1;33m.\u001b[0m\u001b[0mbitwise_and\u001b[0m\u001b[1;33m(\u001b[0m\u001b[0mcrown_img\u001b[0m\u001b[1;33m,\u001b[0m \u001b[0mcrown_img\u001b[0m\u001b[1;33m,\u001b[0m\u001b[0mmask\u001b[0m\u001b[1;33m)\u001b[0m\u001b[1;33m\u001b[0m\u001b[1;33m\u001b[0m\u001b[0m\n\u001b[1;32m---> 42\u001b[1;33m         \u001b[0mres\u001b[0m \u001b[1;33m=\u001b[0m \u001b[0mcv2\u001b[0m\u001b[1;33m.\u001b[0m\u001b[0madd\u001b[0m\u001b[1;33m(\u001b[0m\u001b[0mcrown\u001b[0m\u001b[1;33m,\u001b[0m \u001b[0mroi\u001b[0m\u001b[1;33m)\u001b[0m\u001b[1;33m\u001b[0m\u001b[1;33m\u001b[0m\u001b[0m\n\u001b[0m\u001b[0;32m     43\u001b[0m         \u001b[0mframe\u001b[0m\u001b[1;33m[\u001b[0m\u001b[0mcy\u001b[0m\u001b[1;33m:\u001b[0m\u001b[0mcy\u001b[0m\u001b[1;33m+\u001b[0m\u001b[0mcr_h\u001b[0m\u001b[1;33m,\u001b[0m \u001b[0mcx\u001b[0m\u001b[1;33m:\u001b[0m\u001b[0mcx\u001b[0m\u001b[1;33m+\u001b[0m\u001b[0mcr_w\u001b[0m\u001b[1;33m]\u001b[0m \u001b[1;33m=\u001b[0m \u001b[0mres\u001b[0m\u001b[1;33m\u001b[0m\u001b[1;33m\u001b[0m\u001b[0m\n\u001b[0;32m     44\u001b[0m \u001b[1;33m\u001b[0m\u001b[0m\n",
      "\u001b[1;31merror\u001b[0m: OpenCV(4.4.0) C:\\Users\\appveyor\\AppData\\Local\\Temp\\1\\pip-req-build-6sxsq0tp\\opencv\\modules\\core\\src\\arithm.cpp:669: error: (-209:Sizes of input arguments do not match) The operation is neither 'array op array' (where arrays have the same size and the same number of channels), nor 'array op scalar', nor 'scalar op array' in function 'cv::arithm_op'\n"
     ]
    }
   ],
   "source": [
    "import numpy as np\n",
    "import cv2 \n",
    "import sys \n",
    "\n",
    "#카메라 오픈 \n",
    "cap = cv2.VideoCapture(0)\n",
    "\n",
    "crown_img = cv2.imread('crown.png')\n",
    "crown_img_gray = cv2.cvtColor(crown_img, cv2.COLOR_BGR2GRAY)\n",
    "cr_h, cr_w, _ = crown_img.shape\n",
    "\n",
    "mask = np.where(crown_img_gray!=0,255, 0 ).astype('uint8')#배경이 검정, 왕관이 흰색\n",
    "\n",
    "mask_inv = cv2.bitwise_not(mask)\n",
    "\n",
    "if not cap.isOpened():# cap.isOpen():카메라 정상오픈이면 True, 아니면 False\n",
    "    print('카메라 오픈 안됨')\n",
    "    sys.exit(0)\n",
    "\n",
    "cap.set(3, 600) #카메라 영상의 가로 길이를 300으로 변경\n",
    "cap.set(4, 400) #카메라 영상의 세로 길이를 200으로 변경\n",
    "\n",
    "# 분류기 생성\n",
    "classifier = cv2.CascadeClassifier('haar/haarcascade_frontalface_alt2.xml')\n",
    "\n",
    "if classifier.empty():\n",
    "    print('XML load failed!')\n",
    "    sys.exit()\n",
    "    \n",
    "while True:\n",
    "    ret, frame = cap.read()\n",
    "    if ret: # 정상 읽기일때만\n",
    "        faces = classifier.detectMultiScale(frame)\n",
    "        \n",
    "    for (x,y,w,h) in faces:\n",
    "        cv2.rectangle(frame,(x,y,w,h), (0,0,255),2)\n",
    "        cx = x+w//2 - cr_w//2\n",
    "        cy = y-20-cr_h\n",
    "        cr_roi = frame[cy:cr_h, cx:cx+cr_w]\n",
    "        roi = cv2.bitwise_and(cr_roi, cr_roi,mask_inv)\n",
    "        crown = cv2.bitwise_and(crown_img, crown_img,mask)\n",
    "        res = cv2.add(crown, roi)\n",
    "        frame[cy:cy+cr_h, cx:cx+cr_w] = res\n",
    "        \n",
    "        \n",
    "    cv2.imshow('img',frame) # 영상을 윈도우에 출력\n",
    "#     cv2.imshow('crown',crown_img)\n",
    "    k = cv2.waitKey(100)\n",
    "    if k==27:\n",
    "        break\n",
    "\n",
    "    \n",
    "\n",
    "# cv2.imshow('crown',crown_img)\n",
    "cap.release()\n",
    "cv2.destroyAllWindows()"
   ]
  },
  {
   "cell_type": "code",
   "execution_count": 20,
   "id": "6aaa0d43",
   "metadata": {},
   "outputs": [
    {
     "name": "stdout",
     "output_type": "stream",
     "text": [
      "96 96\n"
     ]
    }
   ],
   "source": [
    "# 왕관 이미지 일단 출력 \n",
    "crown_img = cv2.imread('crown.png')\n",
    "crown_img_gray = cv2.cvtColor(crown_img, cv2.COLOR_BGR2GRAY)\n",
    "cv2.imshow('img',crown_img)\n",
    "cr_h, cr_w, _ = crown_img.shape\n",
    "print(cr_h, cr_w)\n",
    "\n",
    "# 이진화\n",
    "_, mask = cv2.threshold(crown_img_gray, 0,255, cv2.THRESH_BINARY_INV|cv2.THRESH_OTSU)\n",
    "\n",
    "# cv2.imshow('mask',crown_img_gray) #영상을 윈도우에 출력\n",
    "cv2.imshow('mask',mask)\n",
    "cv2.waitKey(0)\n",
    "# cap.release()\n",
    "cv2.destroyAllWindows()"
   ]
  },
  {
   "cell_type": "code",
   "execution_count": null,
   "id": "177fbf19",
   "metadata": {},
   "outputs": [],
   "source": []
  }
 ],
 "metadata": {
  "kernelspec": {
   "display_name": "Python 3",
   "language": "python",
   "name": "python3"
  }
 },
 "nbformat": 4,
 "nbformat_minor": 5
}
