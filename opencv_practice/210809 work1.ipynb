{
 "cells": [
  {
   "cell_type": "code",
   "execution_count": 1,
   "id": "2527c7e3",
   "metadata": {},
   "outputs": [],
   "source": [
    "import numpy as np\n",
    "import cv2 \n",
    "import sys"
   ]
  },
  {
   "cell_type": "code",
   "execution_count": 2,
   "id": "1615f885",
   "metadata": {
    "scrolled": true
   },
   "outputs": [],
   "source": [
    "import numpy as np\n",
    "import cv2 \n",
    "import sys\n",
    "\n",
    "cap = cv2.VideoCapture(0)\n",
    "codec = cv2.VideoWriter_fourcc(*'DIVX')\n",
    "\n",
    "out = cv2.VideoWriter('edge.avi',codec,25.0,(640,480))\n",
    "while cap.isOpened():\n",
    "    ret,frame =cap.read()\n",
    "    if ret:\n",
    "        k = 20\n",
    "        # frame 영상 블러링\n",
    "        blr = cv2.blur(frame,(k,k))\n",
    "        # frame 영상 => canny edge검출\n",
    "        edge = cv2.Canny(frame,50,150)\n",
    "        \n",
    "        edge_color = cv2.cvtColor(edge,cv2.COLOR_GRAY2BGR)\n",
    "        \n",
    "        ret, edge_inv = cv2.threshold(edge_color,127,255,cv2.THRESH_BINARY_INV)\n",
    "        blr_edge_inv= cv2.bitwise_and(blr,edge_inv)\n",
    "        \n",
    "        \n",
    "        cv2.imshow('blr',blr)\n",
    "        cv2.imshow('frame',frame)\n",
    "        cv2.imshow('edge_inv',edge_inv)\n",
    "        cv2.imshow('edge',edge)\n",
    "        cv2.imshow('edge_color',edge_color)\n",
    "        cv2.imshow('and',blr_edge_inv)\n",
    "        \n",
    "        \n",
    "        if cv2.waitKey(1) & 0xFF == ord('q'):\n",
    "            break\n",
    "        \n",
    "    else:\n",
    "        break\n",
    "\n",
    "        \n",
    "cap.release()\n",
    "out.release()\n",
    "cv2.destroyAllWindows()"
   ]
  },
  {
   "cell_type": "code",
   "execution_count": null,
   "id": "c6df939f",
   "metadata": {},
   "outputs": [],
   "source": []
  }
 ],
 "metadata": {
  "kernelspec": {
   "display_name": "Python 3",
   "language": "python",
   "name": "python3"
  },
  "language_info": {
   "codemirror_mode": {
    "name": "ipython",
    "version": 3
   },
   "file_extension": ".py",
   "mimetype": "text/x-python",
   "name": "python",
   "nbconvert_exporter": "python",
   "pygments_lexer": "ipython3",
   "version": "3.7.7"
  }
 },
 "nbformat": 4,
 "nbformat_minor": 5
}
