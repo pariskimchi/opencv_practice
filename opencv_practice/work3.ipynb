{
 "cells": [
  {
   "cell_type": "code",
   "execution_count": 1,
   "id": "4fe1faba",
   "metadata": {},
   "outputs": [
    {
     "name": "stdout",
     "output_type": "stream",
     "text": [
      "세로시작좌표:275,가로시작좌표:171\n",
      "세로end좌표:371,가로end좌표:311\n"
     ]
    }
   ],
   "source": [
    "import cv2 \n",
    "import numpy as np\n",
    "\n",
    "img = cv2.imread('a.jpg',1)\n",
    "cv2.imshow('image',img)\n",
    "\n",
    "\n",
    "img2 = np.ones((800,800,3), dtype=np.uint8)*255\n",
    "cv2.imshow('image2',img2)\n",
    "\n",
    "def dragging(event,w,h,flags,param):\n",
    "    global drag,w1,h1,w2,h2,roi\n",
    "    if event == cv2.EVENT_LBUTTONDOWN:\n",
    "        h1=h\n",
    "        w1=w\n",
    "        print('세로시작좌표:{},가로시작좌표:{}'.format(h1,w1))\n",
    "        cv2.imshow('image',img)\n",
    "        \n",
    "    elif event == cv2.EVENT_LBUTTONUP:\n",
    "        h2=h\n",
    "        w2=w\n",
    "        print('세로end좌표:{},가로end좌표:{}'.format(h2,w2))\n",
    "        roi = img[h1:h2,w1:w2]\n",
    "           \n",
    "def copy_img(event,w,h,flags,param):\n",
    "    global w1,h1,w2,h2,roi\n",
    "   \n",
    "    if event == cv2.EVENT_LBUTTONDOWN:\n",
    "        \n",
    "        if ((h2-h1)>0) & ((w2-w1)>0):\n",
    "            img2[h1:h2,w1:w2] = roi\n",
    "#             img_draw = img.copy()\n",
    "#             cv2.imshow('img_draw',img2)\n",
    "#             roi = img[h1:h2,w1:w2]\n",
    "            cv2.imshow('image2',img2)\n",
    "\n",
    "            \n",
    "            \n",
    "            \n",
    "\n",
    "cv2.setMouseCallback('image',dragging)\n",
    "cv2.setMouseCallback('image2',copy_img)\n",
    "\n",
    "\n",
    "cv2.waitKey(0)        \n",
    "cv2.destroyAllWindows()\n"
   ]
  },
  {
   "cell_type": "code",
   "execution_count": null,
   "id": "d1775e8d",
   "metadata": {},
   "outputs": [],
   "source": []
  }
 ],
 "metadata": {
  "kernelspec": {
   "display_name": "Python 3",
   "language": "python",
   "name": "python3"
  },
  "language_info": {
   "codemirror_mode": {
    "name": "ipython",
    "version": 3
   },
   "file_extension": ".py",
   "mimetype": "text/x-python",
   "name": "python",
   "nbconvert_exporter": "python",
   "pygments_lexer": "ipython3",
   "version": "3.7.7"
  }
 },
 "nbformat": 4,
 "nbformat_minor": 5
}
