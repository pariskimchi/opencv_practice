{
 "cells": [
  {
   "cell_type": "code",
   "execution_count": 31,
   "id": "41c55d33",
   "metadata": {},
   "outputs": [],
   "source": [
    "def saturate_addWeight(p1,a1,p2,a2):\n",
    "#     global a1\n",
    "    pic1 = p1.copy()\n",
    "    pic2 = p2.copy()\n",
    "    \n",
    "    pic1 = pic1.astype('int64')\n",
    "    pic2 = pic2.astype('int64')\n",
    "    \n",
    "    pic = np.clip(a1*pic1 + a2*pic2, 0, 255)\n",
    "    \n",
    "    pic = pic.astype('uint8')\n",
    "    \n",
    "    return pic"
   ]
  },
  {
   "cell_type": "code",
   "execution_count": 5,
   "id": "888ba366",
   "metadata": {},
   "outputs": [],
   "source": [
    "#트랙바\n",
    "def track(x):\n",
    "    global a1\n",
    "    track1 = cv2.getTrackbarPos('track1','image')\n",
    "    \n",
    "    a1 = track1\n",
    "    \n",
    "    \n",
    "    "
   ]
  },
  {
   "cell_type": "code",
   "execution_count": 12,
   "id": "373354af",
   "metadata": {},
   "outputs": [],
   "source": [
    "\n",
    "img1 = cv2.imread('face1.jpg',1)\n",
    "img2 = cv2.imread('face2.jpg',1)\n"
   ]
  },
  {
   "cell_type": "code",
   "execution_count": 18,
   "id": "fcb80f9c",
   "metadata": {},
   "outputs": [
    {
     "data": {
      "text/plain": [
       "(320, 270, 3)"
      ]
     },
     "execution_count": 18,
     "metadata": {},
     "output_type": "execute_result"
    }
   ],
   "source": [
    "img1.shape"
   ]
  },
  {
   "cell_type": "code",
   "execution_count": 19,
   "id": "3099fe7f",
   "metadata": {},
   "outputs": [
    {
     "data": {
      "text/plain": [
       "(317, 269, 3)"
      ]
     },
     "execution_count": 19,
     "metadata": {},
     "output_type": "execute_result"
    }
   ],
   "source": [
    "img2.shape"
   ]
  },
  {
   "cell_type": "code",
   "execution_count": 23,
   "id": "b63c157b",
   "metadata": {},
   "outputs": [],
   "source": [
    "img1 = cv2.resize(img1,dsize=(640,410),interpolation=cv2.INTER_AREA)\n",
    "img2 = cv2.resize(img2,dsize=(640,410),interpolation=cv2.INTER_AREA)"
   ]
  },
  {
   "cell_type": "code",
   "execution_count": 22,
   "id": "b90784b7",
   "metadata": {},
   "outputs": [
    {
     "data": {
      "text/plain": [
       "(410, 640, 3)"
      ]
     },
     "execution_count": 22,
     "metadata": {},
     "output_type": "execute_result"
    }
   ],
   "source": [
    "img1.shape"
   ]
  },
  {
   "cell_type": "code",
   "execution_count": 24,
   "id": "ca12437c",
   "metadata": {},
   "outputs": [
    {
     "data": {
      "text/plain": [
       "(410, 640, 3)"
      ]
     },
     "execution_count": 24,
     "metadata": {},
     "output_type": "execute_result"
    }
   ],
   "source": [
    "img2.shape"
   ]
  },
  {
   "cell_type": "code",
   "execution_count": 25,
   "id": "7334093f",
   "metadata": {},
   "outputs": [],
   "source": [
    "img5 = saturate_addWeight(img1,0.5,img2)\n",
    "cv2.imshow('img5',img5)\n",
    "cv2.waitKey(0)\n",
    "cv2.destroyAllWindows()"
   ]
  },
  {
   "cell_type": "code",
   "execution_count": 32,
   "id": "8e90d91a",
   "metadata": {},
   "outputs": [
    {
     "ename": "TypeError",
     "evalue": "saturate_addWeight() missing 1 required positional argument: 'a2'",
     "output_type": "error",
     "traceback": [
      "\u001b[1;31m---------------------------------------------------------------------------\u001b[0m",
      "\u001b[1;31mTypeError\u001b[0m                                 Traceback (most recent call last)",
      "\u001b[1;32m<ipython-input-32-7645c3c8f737>\u001b[0m in \u001b[0;36mtrack\u001b[1;34m(x)\u001b[0m\n\u001b[0;32m     13\u001b[0m     \u001b[0ma1\u001b[0m \u001b[1;33m=\u001b[0m \u001b[0mtrack1\u001b[0m\u001b[1;33m/\u001b[0m\u001b[1;36m100\u001b[0m\u001b[1;33m\u001b[0m\u001b[1;33m\u001b[0m\u001b[0m\n\u001b[0;32m     14\u001b[0m \u001b[1;33m\u001b[0m\u001b[0m\n\u001b[1;32m---> 15\u001b[1;33m     \u001b[0mpic\u001b[0m \u001b[1;33m=\u001b[0m \u001b[0msaturate_addWeight\u001b[0m\u001b[1;33m(\u001b[0m\u001b[0mimg1\u001b[0m\u001b[1;33m,\u001b[0m\u001b[0ma1\u001b[0m\u001b[1;33m,\u001b[0m\u001b[0mimg2\u001b[0m\u001b[1;33m)\u001b[0m\u001b[1;33m\u001b[0m\u001b[1;33m\u001b[0m\u001b[0m\n\u001b[0m\u001b[0;32m     16\u001b[0m \u001b[1;33m\u001b[0m\u001b[0m\n\u001b[0;32m     17\u001b[0m     \u001b[1;32mreturn\u001b[0m \u001b[0ma1\u001b[0m\u001b[1;33m\u001b[0m\u001b[1;33m\u001b[0m\u001b[0m\n",
      "\u001b[1;31mTypeError\u001b[0m: saturate_addWeight() missing 1 required positional argument: 'a2'"
     ]
    },
    {
     "ename": "TypeError",
     "evalue": "saturate_addWeight() missing 1 required positional argument: 'a2'",
     "output_type": "error",
     "traceback": [
      "\u001b[1;31m---------------------------------------------------------------------------\u001b[0m",
      "\u001b[1;31mTypeError\u001b[0m                                 Traceback (most recent call last)",
      "\u001b[1;32m<ipython-input-32-7645c3c8f737>\u001b[0m in \u001b[0;36mtrack\u001b[1;34m(x)\u001b[0m\n\u001b[0;32m     13\u001b[0m     \u001b[0ma1\u001b[0m \u001b[1;33m=\u001b[0m \u001b[0mtrack1\u001b[0m\u001b[1;33m/\u001b[0m\u001b[1;36m100\u001b[0m\u001b[1;33m\u001b[0m\u001b[1;33m\u001b[0m\u001b[0m\n\u001b[0;32m     14\u001b[0m \u001b[1;33m\u001b[0m\u001b[0m\n\u001b[1;32m---> 15\u001b[1;33m     \u001b[0mpic\u001b[0m \u001b[1;33m=\u001b[0m \u001b[0msaturate_addWeight\u001b[0m\u001b[1;33m(\u001b[0m\u001b[0mimg1\u001b[0m\u001b[1;33m,\u001b[0m\u001b[0ma1\u001b[0m\u001b[1;33m,\u001b[0m\u001b[0mimg2\u001b[0m\u001b[1;33m)\u001b[0m\u001b[1;33m\u001b[0m\u001b[1;33m\u001b[0m\u001b[0m\n\u001b[0m\u001b[0;32m     16\u001b[0m \u001b[1;33m\u001b[0m\u001b[0m\n\u001b[0;32m     17\u001b[0m     \u001b[1;32mreturn\u001b[0m \u001b[0ma1\u001b[0m\u001b[1;33m\u001b[0m\u001b[1;33m\u001b[0m\u001b[0m\n",
      "\u001b[1;31mTypeError\u001b[0m: saturate_addWeight() missing 1 required positional argument: 'a2'"
     ]
    },
    {
     "ename": "TypeError",
     "evalue": "saturate_addWeight() missing 1 required positional argument: 'a2'",
     "output_type": "error",
     "traceback": [
      "\u001b[1;31m---------------------------------------------------------------------------\u001b[0m",
      "\u001b[1;31mTypeError\u001b[0m                                 Traceback (most recent call last)",
      "\u001b[1;32m<ipython-input-32-7645c3c8f737>\u001b[0m in \u001b[0;36mtrack\u001b[1;34m(x)\u001b[0m\n\u001b[0;32m     13\u001b[0m     \u001b[0ma1\u001b[0m \u001b[1;33m=\u001b[0m \u001b[0mtrack1\u001b[0m\u001b[1;33m/\u001b[0m\u001b[1;36m100\u001b[0m\u001b[1;33m\u001b[0m\u001b[1;33m\u001b[0m\u001b[0m\n\u001b[0;32m     14\u001b[0m \u001b[1;33m\u001b[0m\u001b[0m\n\u001b[1;32m---> 15\u001b[1;33m     \u001b[0mpic\u001b[0m \u001b[1;33m=\u001b[0m \u001b[0msaturate_addWeight\u001b[0m\u001b[1;33m(\u001b[0m\u001b[0mimg1\u001b[0m\u001b[1;33m,\u001b[0m\u001b[0ma1\u001b[0m\u001b[1;33m,\u001b[0m\u001b[0mimg2\u001b[0m\u001b[1;33m)\u001b[0m\u001b[1;33m\u001b[0m\u001b[1;33m\u001b[0m\u001b[0m\n\u001b[0m\u001b[0;32m     16\u001b[0m \u001b[1;33m\u001b[0m\u001b[0m\n\u001b[0;32m     17\u001b[0m     \u001b[1;32mreturn\u001b[0m \u001b[0ma1\u001b[0m\u001b[1;33m\u001b[0m\u001b[1;33m\u001b[0m\u001b[0m\n",
      "\u001b[1;31mTypeError\u001b[0m: saturate_addWeight() missing 1 required positional argument: 'a2'"
     ]
    },
    {
     "ename": "TypeError",
     "evalue": "saturate_addWeight() missing 1 required positional argument: 'a2'",
     "output_type": "error",
     "traceback": [
      "\u001b[1;31m---------------------------------------------------------------------------\u001b[0m",
      "\u001b[1;31mTypeError\u001b[0m                                 Traceback (most recent call last)",
      "\u001b[1;32m<ipython-input-32-7645c3c8f737>\u001b[0m in \u001b[0;36mtrack\u001b[1;34m(x)\u001b[0m\n\u001b[0;32m     13\u001b[0m     \u001b[0ma1\u001b[0m \u001b[1;33m=\u001b[0m \u001b[0mtrack1\u001b[0m\u001b[1;33m/\u001b[0m\u001b[1;36m100\u001b[0m\u001b[1;33m\u001b[0m\u001b[1;33m\u001b[0m\u001b[0m\n\u001b[0;32m     14\u001b[0m \u001b[1;33m\u001b[0m\u001b[0m\n\u001b[1;32m---> 15\u001b[1;33m     \u001b[0mpic\u001b[0m \u001b[1;33m=\u001b[0m \u001b[0msaturate_addWeight\u001b[0m\u001b[1;33m(\u001b[0m\u001b[0mimg1\u001b[0m\u001b[1;33m,\u001b[0m\u001b[0ma1\u001b[0m\u001b[1;33m,\u001b[0m\u001b[0mimg2\u001b[0m\u001b[1;33m)\u001b[0m\u001b[1;33m\u001b[0m\u001b[1;33m\u001b[0m\u001b[0m\n\u001b[0m\u001b[0;32m     16\u001b[0m \u001b[1;33m\u001b[0m\u001b[0m\n\u001b[0;32m     17\u001b[0m     \u001b[1;32mreturn\u001b[0m \u001b[0ma1\u001b[0m\u001b[1;33m\u001b[0m\u001b[1;33m\u001b[0m\u001b[0m\n",
      "\u001b[1;31mTypeError\u001b[0m: saturate_addWeight() missing 1 required positional argument: 'a2'"
     ]
    },
    {
     "ename": "TypeError",
     "evalue": "saturate_addWeight() missing 1 required positional argument: 'a2'",
     "output_type": "error",
     "traceback": [
      "\u001b[1;31m---------------------------------------------------------------------------\u001b[0m",
      "\u001b[1;31mTypeError\u001b[0m                                 Traceback (most recent call last)",
      "\u001b[1;32m<ipython-input-32-7645c3c8f737>\u001b[0m in \u001b[0;36mtrack\u001b[1;34m(x)\u001b[0m\n\u001b[0;32m     13\u001b[0m     \u001b[0ma1\u001b[0m \u001b[1;33m=\u001b[0m \u001b[0mtrack1\u001b[0m\u001b[1;33m/\u001b[0m\u001b[1;36m100\u001b[0m\u001b[1;33m\u001b[0m\u001b[1;33m\u001b[0m\u001b[0m\n\u001b[0;32m     14\u001b[0m \u001b[1;33m\u001b[0m\u001b[0m\n\u001b[1;32m---> 15\u001b[1;33m     \u001b[0mpic\u001b[0m \u001b[1;33m=\u001b[0m \u001b[0msaturate_addWeight\u001b[0m\u001b[1;33m(\u001b[0m\u001b[0mimg1\u001b[0m\u001b[1;33m,\u001b[0m\u001b[0ma1\u001b[0m\u001b[1;33m,\u001b[0m\u001b[0mimg2\u001b[0m\u001b[1;33m)\u001b[0m\u001b[1;33m\u001b[0m\u001b[1;33m\u001b[0m\u001b[0m\n\u001b[0m\u001b[0;32m     16\u001b[0m \u001b[1;33m\u001b[0m\u001b[0m\n\u001b[0;32m     17\u001b[0m     \u001b[1;32mreturn\u001b[0m \u001b[0ma1\u001b[0m\u001b[1;33m\u001b[0m\u001b[1;33m\u001b[0m\u001b[0m\n",
      "\u001b[1;31mTypeError\u001b[0m: saturate_addWeight() missing 1 required positional argument: 'a2'"
     ]
    },
    {
     "ename": "TypeError",
     "evalue": "saturate_addWeight() missing 1 required positional argument: 'a2'",
     "output_type": "error",
     "traceback": [
      "\u001b[1;31m---------------------------------------------------------------------------\u001b[0m",
      "\u001b[1;31mTypeError\u001b[0m                                 Traceback (most recent call last)",
      "\u001b[1;32m<ipython-input-32-7645c3c8f737>\u001b[0m in \u001b[0;36mtrack\u001b[1;34m(x)\u001b[0m\n\u001b[0;32m     13\u001b[0m     \u001b[0ma1\u001b[0m \u001b[1;33m=\u001b[0m \u001b[0mtrack1\u001b[0m\u001b[1;33m/\u001b[0m\u001b[1;36m100\u001b[0m\u001b[1;33m\u001b[0m\u001b[1;33m\u001b[0m\u001b[0m\n\u001b[0;32m     14\u001b[0m \u001b[1;33m\u001b[0m\u001b[0m\n\u001b[1;32m---> 15\u001b[1;33m     \u001b[0mpic\u001b[0m \u001b[1;33m=\u001b[0m \u001b[0msaturate_addWeight\u001b[0m\u001b[1;33m(\u001b[0m\u001b[0mimg1\u001b[0m\u001b[1;33m,\u001b[0m\u001b[0ma1\u001b[0m\u001b[1;33m,\u001b[0m\u001b[0mimg2\u001b[0m\u001b[1;33m)\u001b[0m\u001b[1;33m\u001b[0m\u001b[1;33m\u001b[0m\u001b[0m\n\u001b[0m\u001b[0;32m     16\u001b[0m \u001b[1;33m\u001b[0m\u001b[0m\n\u001b[0;32m     17\u001b[0m     \u001b[1;32mreturn\u001b[0m \u001b[0ma1\u001b[0m\u001b[1;33m\u001b[0m\u001b[1;33m\u001b[0m\u001b[0m\n",
      "\u001b[1;31mTypeError\u001b[0m: saturate_addWeight() missing 1 required positional argument: 'a2'"
     ]
    },
    {
     "ename": "TypeError",
     "evalue": "saturate_addWeight() missing 1 required positional argument: 'a2'",
     "output_type": "error",
     "traceback": [
      "\u001b[1;31m---------------------------------------------------------------------------\u001b[0m",
      "\u001b[1;31mTypeError\u001b[0m                                 Traceback (most recent call last)",
      "\u001b[1;32m<ipython-input-32-7645c3c8f737>\u001b[0m in \u001b[0;36mtrack\u001b[1;34m(x)\u001b[0m\n\u001b[0;32m     13\u001b[0m     \u001b[0ma1\u001b[0m \u001b[1;33m=\u001b[0m \u001b[0mtrack1\u001b[0m\u001b[1;33m/\u001b[0m\u001b[1;36m100\u001b[0m\u001b[1;33m\u001b[0m\u001b[1;33m\u001b[0m\u001b[0m\n\u001b[0;32m     14\u001b[0m \u001b[1;33m\u001b[0m\u001b[0m\n\u001b[1;32m---> 15\u001b[1;33m     \u001b[0mpic\u001b[0m \u001b[1;33m=\u001b[0m \u001b[0msaturate_addWeight\u001b[0m\u001b[1;33m(\u001b[0m\u001b[0mimg1\u001b[0m\u001b[1;33m,\u001b[0m\u001b[0ma1\u001b[0m\u001b[1;33m,\u001b[0m\u001b[0mimg2\u001b[0m\u001b[1;33m)\u001b[0m\u001b[1;33m\u001b[0m\u001b[1;33m\u001b[0m\u001b[0m\n\u001b[0m\u001b[0;32m     16\u001b[0m \u001b[1;33m\u001b[0m\u001b[0m\n\u001b[0;32m     17\u001b[0m     \u001b[1;32mreturn\u001b[0m \u001b[0ma1\u001b[0m\u001b[1;33m\u001b[0m\u001b[1;33m\u001b[0m\u001b[0m\n",
      "\u001b[1;31mTypeError\u001b[0m: saturate_addWeight() missing 1 required positional argument: 'a2'"
     ]
    },
    {
     "ename": "TypeError",
     "evalue": "saturate_addWeight() missing 1 required positional argument: 'a2'",
     "output_type": "error",
     "traceback": [
      "\u001b[1;31m---------------------------------------------------------------------------\u001b[0m",
      "\u001b[1;31mTypeError\u001b[0m                                 Traceback (most recent call last)",
      "\u001b[1;32m<ipython-input-32-7645c3c8f737>\u001b[0m in \u001b[0;36mtrack\u001b[1;34m(x)\u001b[0m\n\u001b[0;32m     13\u001b[0m     \u001b[0ma1\u001b[0m \u001b[1;33m=\u001b[0m \u001b[0mtrack1\u001b[0m\u001b[1;33m/\u001b[0m\u001b[1;36m100\u001b[0m\u001b[1;33m\u001b[0m\u001b[1;33m\u001b[0m\u001b[0m\n\u001b[0;32m     14\u001b[0m \u001b[1;33m\u001b[0m\u001b[0m\n\u001b[1;32m---> 15\u001b[1;33m     \u001b[0mpic\u001b[0m \u001b[1;33m=\u001b[0m \u001b[0msaturate_addWeight\u001b[0m\u001b[1;33m(\u001b[0m\u001b[0mimg1\u001b[0m\u001b[1;33m,\u001b[0m\u001b[0ma1\u001b[0m\u001b[1;33m,\u001b[0m\u001b[0mimg2\u001b[0m\u001b[1;33m)\u001b[0m\u001b[1;33m\u001b[0m\u001b[1;33m\u001b[0m\u001b[0m\n\u001b[0m\u001b[0;32m     16\u001b[0m \u001b[1;33m\u001b[0m\u001b[0m\n\u001b[0;32m     17\u001b[0m     \u001b[1;32mreturn\u001b[0m \u001b[0ma1\u001b[0m\u001b[1;33m\u001b[0m\u001b[1;33m\u001b[0m\u001b[0m\n",
      "\u001b[1;31mTypeError\u001b[0m: saturate_addWeight() missing 1 required positional argument: 'a2'"
     ]
    },
    {
     "ename": "TypeError",
     "evalue": "saturate_addWeight() missing 1 required positional argument: 'a2'",
     "output_type": "error",
     "traceback": [
      "\u001b[1;31m---------------------------------------------------------------------------\u001b[0m",
      "\u001b[1;31mTypeError\u001b[0m                                 Traceback (most recent call last)",
      "\u001b[1;32m<ipython-input-32-7645c3c8f737>\u001b[0m in \u001b[0;36mtrack\u001b[1;34m(x)\u001b[0m\n\u001b[0;32m     13\u001b[0m     \u001b[0ma1\u001b[0m \u001b[1;33m=\u001b[0m \u001b[0mtrack1\u001b[0m\u001b[1;33m/\u001b[0m\u001b[1;36m100\u001b[0m\u001b[1;33m\u001b[0m\u001b[1;33m\u001b[0m\u001b[0m\n\u001b[0;32m     14\u001b[0m \u001b[1;33m\u001b[0m\u001b[0m\n\u001b[1;32m---> 15\u001b[1;33m     \u001b[0mpic\u001b[0m \u001b[1;33m=\u001b[0m \u001b[0msaturate_addWeight\u001b[0m\u001b[1;33m(\u001b[0m\u001b[0mimg1\u001b[0m\u001b[1;33m,\u001b[0m\u001b[0ma1\u001b[0m\u001b[1;33m,\u001b[0m\u001b[0mimg2\u001b[0m\u001b[1;33m)\u001b[0m\u001b[1;33m\u001b[0m\u001b[1;33m\u001b[0m\u001b[0m\n\u001b[0m\u001b[0;32m     16\u001b[0m \u001b[1;33m\u001b[0m\u001b[0m\n\u001b[0;32m     17\u001b[0m     \u001b[1;32mreturn\u001b[0m \u001b[0ma1\u001b[0m\u001b[1;33m\u001b[0m\u001b[1;33m\u001b[0m\u001b[0m\n",
      "\u001b[1;31mTypeError\u001b[0m: saturate_addWeight() missing 1 required positional argument: 'a2'"
     ]
    }
   ],
   "source": [
    "import cv2 \n",
    "import numpy as np\n",
    "\n",
    "img1 = cv2.imread('face1.jpg',1)\n",
    "img2 = cv2.imread('face2.jpg',1)\n",
    "\n",
    "img1 = cv2.resize(img1,dsize=(640,410),interpolation=cv2.INTER_AREA)\n",
    "img2 = cv2.resize(img2,dsize=(640,410),interpolation=cv2.INTER_AREA)\n",
    "\n",
    "def track(x):\n",
    "    track1 = cv2.getTrackbarPos('track1','img1')\n",
    "    \n",
    "    a1 = track1/100\n",
    "    \n",
    "    pic = saturate_addWeight(img1,a1,img2)\n",
    "    \n",
    "    return a1\n",
    "    \n",
    "    \n",
    "    \n",
    "cv2.imshow('img1',img1)\n",
    "\n",
    "cv2.createTrackbar('track','img1',0,100,track)\n",
    "\n",
    "cv2.waitKey(0)\n",
    "cv2.destroyAllWindows()"
   ]
  },
  {
   "cell_type": "code",
   "execution_count": 3,
   "id": "22da6049",
   "metadata": {},
   "outputs": [],
   "source": [
    "def br(pos):\n",
    "    pic = cv2.addWeighted(img1, (100-pos)/100,img2,pos/100,0)\n",
    "    cv2.imshow('img',pic)\n",
    "    \n",
    "img1 = cv2.imread('face1.jpg',1)\n",
    "img2 = cv2.imread('face2.jpg',1)\n",
    "img1 = cv2.resize(img1,(320,270))\n",
    "img2 = cv2.resize(img2,(320,270))\n",
    "\n",
    "\n",
    "cv2.imshow('img',img1)\n",
    "cv2.createTrackbar('bright','img',0,100,br)\n",
    "cv2.waitKey(0)\n",
    "cv2.destroyAllWindows()"
   ]
  },
  {
   "cell_type": "code",
   "execution_count": 6,
   "id": "04b6e1be",
   "metadata": {},
   "outputs": [],
   "source": [
    "def br(pos):\n",
    "#     pic = cv2.addWeighted(img1, (100-pos)/100,img2,pos/100,0)\n",
    "    pic = saturate_addWeight(img1,(100-pos)/100,img2,pos/100)\n",
    "    cv2.imshow('img',pic)\n",
    "    \n",
    "img1 = cv2.imread('face1.jpg',1)\n",
    "img2 = cv2.imread('face2.jpg',1)\n",
    "img1 = cv2.resize(img1,(320,270))\n",
    "img2 = cv2.resize(img2,(320,270))\n",
    "\n",
    "\n",
    "cv2.imshow('img',img1)\n",
    "cv2.createTrackbar('bright','img',0,100,br)\n",
    "cv2.waitKey(0)\n",
    "cv2.destroyAllWindows()"
   ]
  },
  {
   "cell_type": "markdown",
   "id": "5d59ae9b",
   "metadata": {},
   "source": [
    "마스크 연산 \\\n",
    "추출하고 싶은 객체를 제외한 나머지 배경을 0으로 처리하면 배경은 검정색,\\\n",
    "객체는 그대로인 이미지가 된다. \\\n",
    "이를 합성하려는 이미지와 더하면 배경은 0이므로 합성하는 이미지의 내용 그대로,\\\n",
    "객체는 위로 붙게 된다"
   ]
  },
  {
   "cell_type": "markdown",
   "id": "64426fcf",
   "metadata": {},
   "source": [
    "## b.jpg의 (150,150) 꼭지점에서 다음 로고 크기 만큼 roi추출"
   ]
  },
  {
   "cell_type": "code",
   "execution_count": 1,
   "id": "ba577bf2",
   "metadata": {},
   "outputs": [],
   "source": [
    "import cv2 \n",
    "import numpy as np"
   ]
  },
  {
   "cell_type": "code",
   "execution_count": 2,
   "id": "41eec2ed",
   "metadata": {},
   "outputs": [],
   "source": [
    "img_daum = cv2.imread('daum.png',1)"
   ]
  },
  {
   "cell_type": "code",
   "execution_count": 3,
   "id": "8d561f32",
   "metadata": {
    "scrolled": true
   },
   "outputs": [
    {
     "data": {
      "text/plain": [
       "(188, 360, 3)"
      ]
     },
     "execution_count": 3,
     "metadata": {},
     "output_type": "execute_result"
    }
   ],
   "source": [
    "img_daum.shape"
   ]
  },
  {
   "cell_type": "code",
   "execution_count": 4,
   "id": "9775f732",
   "metadata": {},
   "outputs": [],
   "source": [
    "h_daum,w_daum,c_daum =img_daum.shape"
   ]
  },
  {
   "cell_type": "code",
   "execution_count": 5,
   "id": "edf4e7fe",
   "metadata": {},
   "outputs": [
    {
     "data": {
      "text/plain": [
       "188"
      ]
     },
     "execution_count": 5,
     "metadata": {},
     "output_type": "execute_result"
    }
   ],
   "source": [
    "h_daum"
   ]
  },
  {
   "cell_type": "code",
   "execution_count": 6,
   "id": "3123928c",
   "metadata": {},
   "outputs": [
    {
     "ename": "NameError",
     "evalue": "name 'background' is not defined",
     "output_type": "error",
     "traceback": [
      "\u001b[1;31m---------------------------------------------------------------------------\u001b[0m",
      "\u001b[1;31mNameError\u001b[0m                                 Traceback (most recent call last)",
      "\u001b[1;32m<ipython-input-6-6438b3ccd129>\u001b[0m in \u001b[0;36m<module>\u001b[1;34m\u001b[0m\n\u001b[1;32m----> 1\u001b[1;33m \u001b[0mroi\u001b[0m \u001b[1;33m=\u001b[0m \u001b[0mbackground\u001b[0m\u001b[1;33m[\u001b[0m\u001b[1;36m150\u001b[0m\u001b[1;33m:\u001b[0m\u001b[1;36m150\u001b[0m\u001b[1;33m+\u001b[0m\u001b[0mh_daum\u001b[0m\u001b[1;33m,\u001b[0m\u001b[1;36m150\u001b[0m\u001b[1;33m:\u001b[0m\u001b[1;36m150\u001b[0m\u001b[1;33m+\u001b[0m\u001b[0mw_daum\u001b[0m\u001b[1;33m]\u001b[0m\u001b[1;33m\u001b[0m\u001b[1;33m\u001b[0m\u001b[0m\n\u001b[0m",
      "\u001b[1;31mNameError\u001b[0m: name 'background' is not defined"
     ]
    }
   ],
   "source": [
    "roi = background[150:150+h_daum,150:150+w_daum]"
   ]
  },
  {
   "cell_type": "code",
   "execution_count": 33,
   "id": "d289ef99",
   "metadata": {},
   "outputs": [],
   "source": [
    "background = cv2.imread('b.jpg',1)\n",
    "img_daum = cv2.imread('daum.png',1)\n",
    "# img_daum[img_daum[:]==255]=0\n",
    "\n",
    "# mask = cv2.cvtColor(img_daum,cv2.COLOR_BGR2GRAY)\n",
    "\n",
    "\n",
    "# img_daum[img_daum[:]==255]=0 \n",
    "\n",
    "\n",
    "\n",
    "# cv2.imshow('mask',mask)\n",
    "\n",
    "\n",
    "# img_daum[img_daum[:]!=0]=255\n",
    "h_daum,w_daum,c_daum =img_daum.shape\n",
    "\n",
    "roi = background[150:150+h_daum,150:150+w_daum]\n",
    "\n",
    "\n",
    "new_roi = cv2.add(roi,img_daum)\n",
    "cv2.imshow('new_roi',new_roi)\n",
    "\n",
    "background[150:150+h_daum,150:150+w_daum] = new_roi\n",
    "# cv2.imshow('roi',roi)\n",
    "# cv2.imshow('daum',img_daum)\n",
    "cv2.imshow('background',background)\n",
    "cv2.waitKey(0)\n",
    "cv2.destroyAllWindows()"
   ]
  },
  {
   "cell_type": "markdown",
   "id": "bdfb34ce",
   "metadata": {},
   "source": [
    "## 하지만 위의 모델은 흰색 바탕이 겹쳐서 나온다\\\n",
    "## 그래서 단순히 로고만 붙여넣기 위해서면 포화연산 이용"
   ]
  },
  {
   "cell_type": "markdown",
   "id": "1a5244c7",
   "metadata": {},
   "source": [
    "### 픽셀 연산상, 검정색은 픽셀로 0이기 때문에 픽셀끼리 더해도\\\n",
    "### 변화가 없기 때문에 까만 바탕이면 이미지 합성해도 \\\n",
    "까만 바탕은 아무런 연관이 없으므로 그대로 유지되어 나옴"
   ]
  },
  {
   "cell_type": "code",
   "execution_count": 23,
   "id": "a429c198",
   "metadata": {},
   "outputs": [],
   "source": [
    "black = np.zeros((h_daum, w_daum,3),dtype='uint8')\n",
    "broi = black+roi\n",
    "cv2.imshow('broi',broi)\n",
    "cv2.imshow('black',black)\n",
    "cv2.waitKey(0)\n",
    "cv2.destroyAllWindows()"
   ]
  },
  {
   "cell_type": "code",
   "execution_count": null,
   "id": "59cb35e6",
   "metadata": {},
   "outputs": [],
   "source": []
  },
  {
   "cell_type": "code",
   "execution_count": null,
   "id": "daa3802e",
   "metadata": {},
   "outputs": [],
   "source": []
  },
  {
   "cell_type": "code",
   "execution_count": 30,
   "id": "978e9cb6",
   "metadata": {},
   "outputs": [],
   "source": [
    "img_daum[img_daum[:]==255]=0 \n",
    "\n",
    "\n",
    "\n",
    "cv2.imshow('daum',img_daum)\n",
    "cv2.waitKey(0)\n",
    "cv2.destroyAllWindows()"
   ]
  },
  {
   "cell_type": "code",
   "execution_count": 18,
   "id": "b052d708",
   "metadata": {},
   "outputs": [],
   "source": [
    "img_daum[img_daum[:]!=0]=255\n",
    "\n",
    "cv2.imshow('daum',img_daum)\n",
    "cv2.waitKey(0)\n",
    "cv2.destroyAllWindows()"
   ]
  },
  {
   "cell_type": "code",
   "execution_count": null,
   "id": "20259f29",
   "metadata": {},
   "outputs": [],
   "source": [
    "\n",
    "d"
   ]
  },
  {
   "cell_type": "code",
   "execution_count": null,
   "id": "f50384af",
   "metadata": {},
   "outputs": [],
   "source": []
  }
 ],
 "metadata": {
  "kernelspec": {
   "display_name": "Python 3",
   "language": "python",
   "name": "python3"
  },
  "language_info": {
   "codemirror_mode": {
    "name": "ipython",
    "version": 3
   },
   "file_extension": ".py",
   "mimetype": "text/x-python",
   "name": "python",
   "nbconvert_exporter": "python",
   "pygments_lexer": "ipython3",
   "version": "3.7.7"
  }
 },
 "nbformat": 4,
 "nbformat_minor": 5
}
