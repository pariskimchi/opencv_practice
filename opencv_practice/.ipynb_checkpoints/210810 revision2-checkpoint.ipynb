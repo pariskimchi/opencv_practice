{
 "cells": [
  {
   "cell_type": "markdown",
   "id": "3ef6e2b9",
   "metadata": {},
   "source": [
    "3. 레이블링\\\n",
    "객체 단위 분석: 객체를 분할하여 특징 분석. 객체 위치, 크기 정보\n",
    "roi 추출, 모양 분석 등\\\n",
    "레이블링: 서로 연결되어 있는 객체 픽셀에 고유 번호 할당. 영역 기반 모양 분석. 레이블맵, 바운딩 박스, 픽셀 개수, 무게중심 좌표 반환\\\n",
    "외곽선 검출: 객체 외곽선 좌표 검출. 외곽선 기반 모양분석. 다양한 외곽선 처리 함수에서 활용(근사화, 컨벡스 헐 등)\\\n",
    "\n",
    "1) 레이블링\\\n",
    "동일 객체에 속한 모든 픽셀에 고유 번호 할당\\\n",
    "보통 이진 영상에서 수행\\\n",
    "\n",
    "픽셀 연결 관계\\\n",
    "4-이웃 연결 관계\\\n",
    "8-이웃 연결 관계\\"
   ]
  },
  {
   "cell_type": "markdown",
   "id": "42c65c38",
   "metadata": {},
   "source": [
    "레이블링 함수\\\n",
    "cv2.connectedComponents(src, connectivity, ltype)=> retval, labels\\\n",
    "src : 8비트 1채널 영상\\\n",
    "connectivity: 4 또는 8 . 기본값 8\\\n",
    "ltype: labels 타입. 기본값은 cv2.CV_32S\\\n",
    "retval: 객체 개수(레이블 개수 ) N반환. 카운팅은 0부터 이고 0은 배경 객체, 실제 객체 개수는 N-1개\\"
   ]
  },
  {
   "cell_type": "markdown",
   "id": "8e3c9625",
   "metadata": {},
   "source": [
    "cv2.connectedComponentsWithStats(src,connectivity,ltype)=>\\\n",
    "retval, labels, stats, centroids\\\n",
    "src: 8비트 1채널 영상\\\n",
    "connectivity: 4또는 8. 기본값은 8\\\n",
    "ltype: labels타입. 기본값은 cv2.CV_32S\\\n",
    "stats: 추출된 객체의 위치, 가로세로 길이, 면적 등의 정보\\\n",
    "centroids:무게 중심 정보\\"
   ]
  },
  {
   "cell_type": "code",
   "execution_count": 4,
   "id": "99618fbe",
   "metadata": {},
   "outputs": [],
   "source": [
    "import sys \n",
    "import numpy as np\n",
    "import cv2 \n",
    "\n",
    "src = cv2.imread('keyboard.bmp',cv2.IMREAD_GRAYSCALE)\n",
    "\n",
    "if src is None:\n",
    "    print('Image load failed!')\n",
    "    sys.exit()\n",
    "    \n",
    "_, src_bin = cv2.threshold(src,0,255, cv2.THRESH_OTSU)\n",
    "\n",
    "cnt, labels, stats, centroids = cv2.connectedComponentsWithStats(src_bin)\n",
    "\n",
    "dst = cv2.cvtColor(src, cv2.COLOR_GRAY2BGR)\n",
    "\n",
    "for i in range(1, cnt):\n",
    "    (x,y,w,h,area) = stats[i]\n",
    "    \n",
    "    if area <20:\n",
    "        continue\n",
    "        \n",
    "    cv2.rectangle(dst,(x,y,w,h),(0,255,255))\n",
    "    \n",
    "\n",
    "\n",
    "\n",
    "cv2.imshow('src',src)\n",
    "cv2.imshow('src_bin',src_bin)\n",
    "cv2.imshow('dst',dst)\n",
    "cv2.waitKey()\n",
    "cv2.destroyAllWindows()"
   ]
  },
  {
   "cell_type": "markdown",
   "id": "0c3f6b9d",
   "metadata": {},
   "source": [
    "2) 외곽선 검출\\\n",
    "객체 외곽선 좌표 추출\\\n",
    "외부 외곽선 & 내부 외곽선 => 외곽선 계층 구조 표현 가능\\\n",
    "\n",
    "cv2.findContours(img,mode,method,offset) => contours, hierarchy\\\n",
    "\n",
    "mode: contours 찾는 방법 지정\\\n",
    "cv2.RETR_EXTERNAL : 가장 바깥 경계선만 찾음\\\n",
    "cv2.RETR_LIST: 모든 컨투어 탐색.hierarchy 관계 구성 않음\\\n",
    "cv2.RETR_CCOMP: 모든 컨투어 탐색, hierarchy 관계 2단계 까지 구성\\\n",
    "cv2.RETR_TREE: 모든 컨투어 탐색. 모든 hierarchy 관계 구성\\\n",
    "\n",
    "method: 컨투어 좌표와 관련된 설정\\\n",
    "cv2.CHAIN_APPROX_NONE: 모든 컨투어 좌표 저장\\\n",
    "cv2.CHAIN_APPROX_SIMPLE:컨투어 라인을 그릴수 있는 좌표만 저장\\\n",
    "cv2.CHAIN_APPROX_TC89_L1: 컨투어 좌표 찾는 알고리즘\\\n",
    "cv2.CHAIN_APPROX_TC89_KCOS:컨투어 좌표 찾는 알고리즘\\\n",
    "\n",
    "offset:좌표 이동 옵셋. 기본값(0,0)\\\n",
    "\n",
    "contours: 검출된 외곽선 좌표. len(contours)는 전체 길이이므로 \\\n",
    "외곽선 좌표의 개수가 됨.\\\n",
    "\n",
    "contours[i].shape = (k,1,2) k는 한 객체 외곽선 좌표 개수, \\\n",
    "contours[i].dtype= numpy.int32\\\n",
    "\n",
    "hierarchy: 외곽선 계층정보. \\\n",
    "numpy.ndarray.shape=(1,N,4),\\\n",
    "type = numpy.int32\\\n",
    "hierarchy[0,i,0]~ hierarchy[0,i,3]이 순서대로\\\n",
    "next, prev, child, parent. 외곽선 인덱스를 가리킴\\\n",
    "해당 외곽선이 없으면 -1\\\n",
    "\n"
   ]
  },
  {
   "cell_type": "code",
   "execution_count": null,
   "id": "6511e30d",
   "metadata": {},
   "outputs": [],
   "source": []
  }
 ],
 "metadata": {
  "kernelspec": {
   "display_name": "Python 3",
   "language": "python",
   "name": "python3"
  },
  "language_info": {
   "codemirror_mode": {
    "name": "ipython",
    "version": 3
   },
   "file_extension": ".py",
   "mimetype": "text/x-python",
   "name": "python",
   "nbconvert_exporter": "python",
   "pygments_lexer": "ipython3",
   "version": "3.7.7"
  }
 },
 "nbformat": 4,
 "nbformat_minor": 5
}
