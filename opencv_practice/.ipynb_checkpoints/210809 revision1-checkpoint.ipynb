{
 "cells": [
  {
   "cell_type": "code",
   "execution_count": 1,
   "id": "308cf1dc",
   "metadata": {},
   "outputs": [],
   "source": [
    "import numpy as np\n",
    "import cv2 \n",
    "import matplotlib.pyplot"
   ]
  },
  {
   "cell_type": "markdown",
   "id": "acae7cf0",
   "metadata": {},
   "source": [
    "### 에지 검출\\\n",
    "    -에지(edge)\\\n",
    "    영상에서 픽셀의 밝기 값이 급격하게 변하는 부분.\\\n",
    "    즉 객체 이미지 테두리, 경계\\\n",
    "    - 에지 검출\\\n",
    "    영상을 미분하여 값이 큰 영역 검출\\\n",
    "    =>  기울기 값이 크면,변화량이 큰거"
   ]
  },
  {
   "cell_type": "markdown",
   "id": "11e93c50",
   "metadata": {},
   "source": [
    "#### 소벨필터\\\n",
    "cv2.Sobel(src,ddepth,dx,dy,ksize=None,scale=None,delta=None,borderType=None)=>\\\n",
    "ddepth: 결과 영상 데이터 타입, -1이면 입력 영상과 동일\\\n",
    "dx: x방향 미분 차수\\\n",
    "dy: y방향 미분 차수\\\n",
    "ksize: 커널 크기. 보통3\\\n",
    "scale: 결과 영상에 추가로 곱할 값. 기본은 1\\\n",
    "delta:결과 영상에 추가로 더할 값. 기본은 0"
   ]
  },
  {
   "cell_type": "code",
   "execution_count": 10,
   "id": "33ecf004",
   "metadata": {},
   "outputs": [],
   "source": [
    "import numpy as np\n",
    "import cv2 \n",
    "\n",
    "src = cv2.imread('c.jpg',cv2.IMREAD_GRAYSCALE)\n",
    "\n",
    "dx = cv2.Sobel(src, -1,1,0,delta=128)\n",
    "dy = cv2.Sobel(src,-1,0,1,delta=128)\n",
    "\n",
    "cv2.imshow('src',src)\n",
    "cv2.imshow('dx',dx)\n",
    "cv2.imshow('dy',dy)\n",
    "cv2.waitKey(0)\n",
    "\n",
    "cv2.destroyAllWindows()"
   ]
  },
  {
   "cell_type": "markdown",
   "id": "80e2eab3",
   "metadata": {},
   "source": [
    "#### 샤르 필터\\\n",
    "cv2.Scharr(src,ddepth,dx,dy,scale=None,delta=None,borderType=None)\\\n"
   ]
  },
  {
   "cell_type": "code",
   "execution_count": 11,
   "id": "ad8ff3e9",
   "metadata": {},
   "outputs": [],
   "source": [
    "import numpy as np\n",
    "import cv2 \n",
    "\n",
    "src = cv2.imread('c.jpg',cv2.IMREAD_GRAYSCALE)\n",
    "\n",
    "dx = cv2.Scharr(src,-1,1,0,delta=128)\n",
    "dy = cv2.Scharr(src,-1,0,1,delta=128)\n",
    "\n",
    "cv2.imshow('src',src)\n",
    "cv2.imshow('dx',dx)\n",
    "cv2.imshow('dy',dy)\n",
    "cv2.waitKey(0)\n",
    "\n",
    "cv2.destroyAllWindows()"
   ]
  },
  {
   "cell_type": "markdown",
   "id": "835d4668",
   "metadata": {},
   "source": [
    "### 그래디언트(gradient)\\\n",
    "영상을 편미분 하여 구한 벡터\\\n",
    "그래디언트 크기: 픽셀값 차이 크기\\\n",
    "그래디언트 방향: 픽셀 값이 가장 급격하게 증가하는 방향\\\n"
   ]
  },
  {
   "cell_type": "markdown",
   "id": "b4097bbb",
   "metadata": {},
   "source": [
    "크기 계산 함수\\\n",
    "cv2.magnitude(x,y) => 2D 벡터 크기 행렬 반환\\\n",
    "x: x축 미분값\\\n",
    "y:y 축 미분값\\\n",
    "\n",
    "방향 계산 함수\\\n",
    "cv2.phase(x,y,angleInDegree=None)\\\n",
    "x:x축 미분\\\n",
    "y:y축 미분\\\n",
    "angleInDegree:True이면 각도, False이면 래디언\\\n"
   ]
  },
  {
   "cell_type": "code",
   "execution_count": 12,
   "id": "1575e68d",
   "metadata": {},
   "outputs": [],
   "source": [
    "import numpy as np\n",
    "import cv2 \n",
    "\n",
    "src = cv2.imread('c.jpg', cv2.IMREAD_GRAYSCALE)\n",
    "\n",
    "dx = cv2.Sobel(src, cv2.CV_32F, 1, 0)\n",
    "dy = cv2.Sobel(src, cv2.CV_32F, 0,1)\n",
    "\n",
    "mag = cv2.magnitude(dx,dy)\n",
    "mag = np.clip(mag,0,255).astype(np.uint8)\n",
    "\n",
    "dst = np.zeros(src.shape[:2],np.uint8)\n",
    "dst[mag > 120] = 255\n",
    "\n",
    "cv2.imshow('src',src)\n",
    "cv2.imshow('mag',mag)\n",
    "cv2.imshow('dst',dst)\n",
    "cv2.waitKey()\n",
    "\n",
    "cv2.destroyAllWindows()"
   ]
  },
  {
   "cell_type": "markdown",
   "id": "77d37a26",
   "metadata": {},
   "source": [
    "## 케니 에지 검출\\\n",
    "에지 잘 검출하려면?\\\n",
    "정확한 검출: 점이나 노이즈를 에지로 찾거나 에지를 놓치는 확률 최소화\\\n",
    "정확한 위치: 에지 중심 검출\\\n",
    "단일 에지: 하나의 에지는 하나의 점으로 표현\\\n",
    "\n",
    "    케니 에지 검출 단계\n",
    "    가우시안 필터링: 잡음 제거 \n",
    "    그래디언트 계산: 소벨 마스크를 이용해서 크기,방향 계산\n",
    "    비최대 억제: 하나의 에지가 여러개 픽셀로 표현되는 것을 막기 위해 그래디언트 크기가 국지적 최대인 픽셀만 선택\n",
    "    히스테리시스 에지 트래킹: 걸러진 에지 중에서 약한 에지 버리고 강한에지, 연결에지만 최종 선택"
   ]
  },
  {
   "cell_type": "markdown",
   "id": "68d41c53",
   "metadata": {},
   "source": [
    "케니 함수\\\n",
    "cv2.Canny(img,threshold1,threshold2,apertureSiz=None,L2gradient=None)\\\n",
    "threshold1 - Hysteresis Thredsholding 작업에서의 min값\\\n",
    "threshold2 - Hysteresis Thredsholding 작업에서의 max값 \\\n",
    "apertureSiz- 소벨 연산에 사용할 커널 크기\\\n",
    "L2gradient - 그래디언트 계산 수식 지정. True, False(기본값)"
   ]
  },
  {
   "cell_type": "markdown",
   "id": "a414f992",
   "metadata": {},
   "source": [
    "    이진화 임계값 함수\n",
    "    cv2.threshold(src,thresh,maxval,type)=>\n",
    "    thresh:이진화 임계값\n",
    "    maxval: 입계값 넘었을때 적용할 value\n",
    "    type:이진화 종류 지정\n",
    "    "
   ]
  },
  {
   "cell_type": "markdown",
   "id": "04f411a7",
   "metadata": {},
   "source": [
    "thresholding type\\\n",
    "cv2.THRESH_BINARY\\\n",
    "cv2.THRESH_BINARY_INV\\\n",
    "cv2.THRESH_TRUNC\\\n",
    "cv2.THRESH_TOZERO\\\n",
    "cv2.THRESH_TOZERO_INV"
   ]
  },
  {
   "cell_type": "code",
   "execution_count": 13,
   "id": "eab2e5ce",
   "metadata": {},
   "outputs": [],
   "source": [
    "import numpy as np\n",
    "import cv2 \n",
    "\n",
    "src = cv2.imread('building.jpg',cv2.IMREAD_GRAYSCALE)\n",
    "\n",
    "dst = cv2.Canny(src, 50,150)\n",
    "\n",
    "cv2.imshow('src',src)\n",
    "cv2.imshow('dst',dst)\n",
    "cv2.waitKey()\n",
    "\n",
    "cv2.destroyAllWindows()"
   ]
  },
  {
   "cell_type": "code",
   "execution_count": null,
   "id": "e11d695f",
   "metadata": {},
   "outputs": [],
   "source": []
  },
  {
   "cell_type": "markdown",
   "id": "e4578e57",
   "metadata": {},
   "source": [
    "## 에지=> 허프변환\n",
    "\n",
    "에지 영상은 검정색 배경에 에지부분만 흰색\\\n",
    "입력 영상에서 에지가 있는 좌표를 추출\\\n",
    "\n",
    "직선을 추출하기 위해서 가장 유명한게 허프 변환\\\n",
    "축적 알고리즘 이용=> 내가 원하는 파라미터를 찾아냄.\\\n",
    "\n",
    "허프 변환 직선 검출은 2차원 영상 좌표에서의 \\\n",
    "직선의 방정식을 파라미터 공간으로 변환하여\\\n",
    "직선을 찾는 알고리즘\\"
   ]
  },
  {
   "cell_type": "markdown",
   "id": "1cc447f9",
   "metadata": {},
   "source": [
    "직선의 방정식 y= ax+b 가 있다면 \\\n",
    "b= -xa+y 로 변환\n",
    "x,y축에 있는 직선의 점을 a,b좌표 평면으로 옮기면 직선으로 표현\\\n",
    "x,y좌표 평면 두 점을 a,b좌표 평면으로 옮기면 두개의 직선으로 표현"
   ]
  },
  {
   "cell_type": "markdown",
   "id": "3ba0463c",
   "metadata": {},
   "source": [
    "### 허프 변환 함수 \\\n",
    "cv2.HoughLines(img,rho,theta,threshold,srn=None,stn=None,min_theta=None,max_theta=None) = > 직선 파라메터를 담은 행렬\\\n",
    "rho- r값의 범위 (0~1실수)\\\n",
    "theta - 세타 값의 범위(0~180정수)\\\n",
    "threshold- 직선으로 판단할 임계값, 숫자가 작으면 많은 선이 검출 되지만 정확도 떨어지고 숫자가 크면 정확도가 올라감\\\n",
    "srn,stn - 멀티 스케일 허프 변환에서 rho,theta를 나누는 값. 기본은 0\\\n",
    "min_theta, max_theta - theta 최소 최대값\\\n"
   ]
  },
  {
   "cell_type": "markdown",
   "id": "4d164ef0",
   "metadata": {},
   "source": [
    "cv2.HoughLines()함수의 단점\\\n",
    "반환된 모든 점에 기울기를 계산하여 시작점과 끝점을 계산해야함. 그리고 모든점에 대해서 연산하므로 속도가 느림. 이를 보완한 함수가 확률 허프 변환 함수\\\n"
   ]
  },
  {
   "cell_type": "markdown",
   "id": "2c9faff1",
   "metadata": {},
   "source": [
    "### 확률 허프 변환\\\n",
    "이전 허프변환을 최적화한것.\\\n",
    "모든 점을 대상으로 하는것이 아니라 임의의 점을 이용하여 직선을 찾는것\\\n",
    "단 임계값을 작게 해야한다\\\n",
    "장점은 선의 시작점과 끝점을 return 해주기 때문에 쉽게 화면에 표현가능\\\n"
   ]
  },
  {
   "cell_type": "markdown",
   "id": "511821e0",
   "metadata": {},
   "source": [
    "cv2.HoughLinesP(image,rho,theta,threshold,minLineLength,maxLineGap) => lines\\\n",
    "rho - r값의 범위(0~1 실수)\\\n",
    "theta - 세타 값의 범위 (0~180 정수)\\\n",
    "threshold - 직선으로 판단할 임계값\\\n",
    "minLineLength- 검출할 선의 최소 길이\\\n",
    "maxLineGap- 직선으로 간주할 최대 에지 점 간격"
   ]
  },
  {
   "cell_type": "code",
   "execution_count": 17,
   "id": "9b04be09",
   "metadata": {},
   "outputs": [],
   "source": [
    "import numpy as np\n",
    "import cv2 \n",
    "\n",
    "src = cv2.imread('building.jpg',cv2.IMREAD_GRAYSCALE)\n",
    "\n",
    "edges = cv2.Canny(src,50,150)\n",
    "\n",
    "lines = cv2.HoughLinesP(edges,1,np.pi/180.,160,minLineLength=50,maxLineGap=5)\n",
    "\n",
    "dst = cv2.cvtColor(edges, cv2.COLOR_GRAY2BGR)\n",
    "\n",
    "\n",
    "# print(lines[0][0][0])\n",
    "\n",
    "if lines is not None:\n",
    "    for i in range(lines.shape[0]):\n",
    "        pt1 = (lines[i][0][0], lines[i][0][1])\n",
    "        pt2 = (lines[i][0][2],lines[i][0][3])\n",
    "        cv2.line(dst,pt1,pt2,(0,0,255),2,cv2.LINE_AA) # 빨간선 긋기\n",
    "\n",
    "\n",
    "\n",
    "cv2.imshow('dst',dst)\n",
    "cv2.imshow('src',src)\n",
    "\n",
    "cv2.waitKey()\n",
    "cv2.destroyAllWindows()"
   ]
  },
  {
   "cell_type": "markdown",
   "id": "234f286c",
   "metadata": {},
   "source": [
    "허프 변환 원검출 함수\\\n",
    "cv2.HoughCircles(img,method,dp,minDist,param1=None,param2=None,minRadius=None,maxRadius=None)\\\n",
    "\n",
    "method: cv2.HOUGH_GRADIENT만 가능\\\n",
    "dp: img와 축적 배열 크기 비율.1은같음, 2는 축적배열이 img의 반\\\n",
    "minDist: 검출된 원 중심점들의 최소거리\\\n",
    "param1:케니 검출기의 높은 임계값\\\n",
    "param2;축적 배열의 원 검출을 위한 임계값\\\n",
    "minRadius, maxRadius:검출할 원의 최소,최대 반지름"
   ]
  },
  {
   "cell_type": "code",
   "execution_count": 16,
   "id": "8fac45da",
   "metadata": {},
   "outputs": [],
   "source": [
    "import numpy as np\n",
    "import cv2 \n",
    "\n",
    "src = cv2.imread('dial.jpg')\n",
    "\n",
    "gray = cv2.cvtColor(src, cv2.COLOR_BGR2GRAY)\n",
    "blr = cv2.GaussianBlur(gray,(0,0),1.0)\n",
    "\n",
    "circles = cv2.HoughCircles(blr,cv2.HOUGH_GRADIENT,1,50,\n",
    "                          param1=150,param2=40,minRadius=20,\n",
    "                          maxRadius=80)\n",
    "\n",
    "dst = src.copy()\n",
    "\n",
    "if circles is not None:\n",
    "    for i in range(circles.shape[1]):\n",
    "        cx,cy,radius = circles[0][i]\n",
    "        cv2.circle(dst,(cx,cy), int(radius), (0,0,255),2,cv2.LINE_AA)\n",
    "\n",
    "\n",
    "cv2.imshow('src',src)\n",
    "cv2.imshow('dst',dst)\n",
    "cv2.waitKey()\n",
    "\n",
    "cv2.destroyAllWindows()"
   ]
  },
  {
   "cell_type": "code",
   "execution_count": null,
   "id": "345527e5",
   "metadata": {},
   "outputs": [],
   "source": []
  }
 ],
 "metadata": {
  "kernelspec": {
   "display_name": "Python 3",
   "language": "python",
   "name": "python3"
  },
  "language_info": {
   "codemirror_mode": {
    "name": "ipython",
    "version": 3
   },
   "file_extension": ".py",
   "mimetype": "text/x-python",
   "name": "python",
   "nbconvert_exporter": "python",
   "pygments_lexer": "ipython3",
   "version": "3.7.7"
  }
 },
 "nbformat": 4,
 "nbformat_minor": 5
}
