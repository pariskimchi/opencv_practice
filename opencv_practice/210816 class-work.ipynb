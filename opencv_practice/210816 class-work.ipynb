{
 "cells": [
  {
   "cell_type": "code",
   "execution_count": 9,
   "id": "b0fc156f",
   "metadata": {},
   "outputs": [],
   "source": [
    "import numpy as np\n",
    "import cv2\n",
    "import sys \n",
    "import matplotlib.pyplot as plt"
   ]
  },
  {
   "cell_type": "code",
   "execution_count": 14,
   "id": "28a0dfac",
   "metadata": {},
   "outputs": [
    {
     "name": "stdout",
     "output_type": "stream",
     "text": [
      "2\n",
      "4\n",
      "2\n",
      "7\n",
      "2\n"
     ]
    }
   ],
   "source": [
    "src = cv2.imread('num.png',cv2.IMREAD_GRAYSCALE)\n",
    "\n",
    "_, src_bin = cv2.threshold(src,0,255,cv2.THRESH_OTSU)\n",
    "\n",
    "cnt,labels,stats,centroids = cv2.connectedComponentsWithStats(src_bin)\n",
    "\n",
    "dst = cv2.cvtColor(src, cv2.COLOR_GRAY2BGR)\n",
    "\n",
    "nums = []\n",
    "for i in range(1,cnt):\n",
    "    (x,y,w,h,area) = stats[i]\n",
    "    \n",
    "    if area < 20:\n",
    "        continue\n",
    "    \n",
    "    roi = dst[y:y+h, x:x+w]\n",
    "    nums.append(roi)\n",
    "    \n",
    "svm = cv2.ml.SVM_load('svmdigits.yml')\n",
    "hog = cv2.HOGDescriptor((20,20),(10,10),(5,5),(5,5),9)\n",
    "\n",
    "if svm.empty():\n",
    "    print('SVM load failed!')\n",
    "    sys.exit()\n",
    "    \n",
    "resize_nums = []\n",
    "\n",
    "for num in nums:\n",
    "    test_image = cv2.resize(num,(20,20),interpolation=cv2.INTER_AREA)\n",
    "    test_desc = hog.compute(test_image).T\n",
    "    \n",
    "    _, res =  svm.predict(test_desc)\n",
    "    cv2.imshow('num',num)\n",
    "    print(int(res[0,0]))\n",
    "    cv2.waitKey()\n",
    "    \n",
    "    \n",
    "'''   \n",
    "for i in range(len(nums)):\n",
    "    cv2.imshow('num'+str(i), nums[i])\n",
    "'''  \n",
    "    \n",
    "    \n",
    "\n",
    "# cv2.imshow('dst',dst)\n",
    "# cv2.waitKey()\n",
    "cv2.destroyAllWindows()"
   ]
  },
  {
   "cell_type": "code",
   "execution_count": 6,
   "id": "27ad2bfc",
   "metadata": {},
   "outputs": [
    {
     "data": {
      "text/plain": [
       "array([[     0,      0,    600,    449, 268482],\n",
       "       [   282,     84,     34,    103,    137],\n",
       "       [   491,     96,     35,    155,    155],\n",
       "       [   370,    108,     86,    109,    263],\n",
       "       [   163,    110,     71,    103,    215],\n",
       "       [    91,    114,     49,     81,    148]], dtype=int32)"
      ]
     },
     "execution_count": 6,
     "metadata": {},
     "output_type": "execute_result"
    }
   ],
   "source": [
    "stats"
   ]
  },
  {
   "cell_type": "code",
   "execution_count": 8,
   "id": "996bc26f",
   "metadata": {},
   "outputs": [
    {
     "ename": "IndexError",
     "evalue": "index 91 is out of bounds for axis 0 with size 5",
     "output_type": "error",
     "traceback": [
      "\u001b[1;31m---------------------------------------------------------------------------\u001b[0m",
      "\u001b[1;31mIndexError\u001b[0m                                Traceback (most recent call last)",
      "\u001b[1;32m<ipython-input-8-e2591c82767c>\u001b[0m in \u001b[0;36m<module>\u001b[1;34m\u001b[0m\n\u001b[1;32m----> 1\u001b[1;33m \u001b[0mstats\u001b[0m\u001b[1;33m[\u001b[0m\u001b[1;36m0\u001b[0m\u001b[1;33m]\u001b[0m\u001b[1;33m[\u001b[0m\u001b[0mx\u001b[0m\u001b[1;33m]\u001b[0m\u001b[1;33m\u001b[0m\u001b[1;33m\u001b[0m\u001b[0m\n\u001b[0m",
      "\u001b[1;31mIndexError\u001b[0m: index 91 is out of bounds for axis 0 with size 5"
     ]
    }
   ],
   "source": [
    "stats[0]"
   ]
  },
  {
   "cell_type": "code",
   "execution_count": null,
   "id": "5c05050d",
   "metadata": {},
   "outputs": [],
   "source": []
  }
 ],
 "metadata": {
  "kernelspec": {
   "display_name": "Python 3",
   "language": "python",
   "name": "python3"
  },
  "language_info": {
   "codemirror_mode": {
    "name": "ipython",
    "version": 3
   },
   "file_extension": ".py",
   "mimetype": "text/x-python",
   "name": "python",
   "nbconvert_exporter": "python",
   "pygments_lexer": "ipython3",
   "version": "3.7.7"
  }
 },
 "nbformat": 4,
 "nbformat_minor": 5
}
