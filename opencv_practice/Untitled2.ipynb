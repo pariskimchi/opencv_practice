{
 "cells": [
  {
   "cell_type": "markdown",
   "id": "1d2a1d1c",
   "metadata": {},
   "source": [
    "## 2. 외곽선 검출\\\n",
    "객체 외곽선 좌표 추출\\\n",
    "외부 외곽선& 내부 외곽선=> 외곽선 계층 구조 표현 가능\\\n",
    "\n",
    "cv2.findContours(img,mode,method,offset) => contours, hierarchy\\\n",
    "\n",
    "mode: contours 찾는 방법 지정\\\n",
    "cv2.RETR_EXTERNAL:가장 바깥 경계선만 찾음\\\n",
    "cv2.RETR_LIST: 모든 컨투어 탐색, hierarchy관계 구성 않음\\\n",
    "cv2.RETR_CCOMP: 모든 컨투어 탐색, hierarchy관계 2단계 까지 구성\\\n",
    "cv2.RETR_TREE:모든 컨투어 탐색, 모든 hierarchy 관계 구성\\\n",
    "\n",
    "method: 컨투어 좌표와 관련된 설정\\\n",
    "cv2.CHAIN_APPROX_NONE:모든 컨투어 좌표 저장\\\n",
    "cv2.CHAIN_APPROX_SIMPLE:컨투어 라인을 그릴수 있는 좌표만 저장\\\n",
    "cv2.CHAIN_APPROX_TC89_L1:컨투어 좌표 찾는 알고리즘\\\n",
    "cv2.CHAIN_APPROX_TC89_KCOS: 컨투어 좌표 찾는 알고리즘\\\n",
    "\n",
    "offset:좌표 이동 옵셋. 기본값(0,0)\\\n",
    "\n",
    "contours:검출된 외곽선 좌표. len(contours)는 전체 길이 이므로 외곽선 좌표의 개수가 됨\\\n",
    "contours[i].shape = (k,1,2) k는 len(contours)는 "
   ]
  },
  {
   "cell_type": "markdown",
   "id": "a6f52ad9",
   "metadata": {},
   "source": [
    "3) 외곽선 그리기\\\n",
    "cv2.drawContours(img,contours,contourIdx,color,thickness=None,lineType=None,\n",
    "hierarchy=None,maxLevel=None,offset=None) => img\\\n",
    "\n",
    "contours:(cv2.findContours() 함수로 구한) 외곽선 좌표 정보\\\n",
    "contourIdx: 외곽선 인덱스. 음수(-1)를 지정하면 모든 외곽선을 그림\\\n",
    "color: 외곽선 색상\\\n",
    "thickness: 외곽선 두께. thickness <0 이면 내부를 채움\\\n",
    "lineType:LINE_4, LINE_8, LINE_AA 중 하나 지정\\\n",
    "hierarchy:외곽선 계층 정보\\\n",
    "maxLevel: 그리기를 수행할 최대 외곽선 레벨. maxLevel=0이면 contourIdx로 지정된 외곽선만 그림\\\n",
    "\n",
    "사용예\\\n",
    "gray = cv2.cvtColor(img,cv2.COLOR_BGR2GRAY)\\\n",
    "ret, thresh = cv2.threshold(gray,127,255,0)\\\n",
    "contours, hierarchy = cv2.findContours(thresh,cv2.CHAIN_APPROX_SIMPLE)\\\n",
    "cont_img = cv2.drawContours(img,contours,-1,(0,0,255),2)"
   ]
  },
  {
   "cell_type": "code",
   "execution_count": null,
   "id": "1c61f56b",
   "metadata": {},
   "outputs": [],
   "source": [
    "import sys \n",
    "import random\n",
    "import numpy as np\n",
    "import cv2 \n",
    "\n",
    "src= cv2.imread('contours.bmp',cv2.IMREAD_GRAYSCALE)\n",
    "\n",
    "if src is None:\n",
    "    print('Image load failed!')\n",
    "    sys.exit()\n",
    "    \n",
    "contours, hier = cv2.findContours(src,cv2.RETR_CCOMP, cv2.CHAIN_APPROX_NONE)\n",
    "\n",
    "dst = cv2.cvtColor(src, cv2.COLOR_GRAY2BGR)\n",
    "\n",
    "idx = 0\n",
    "while idx >=0:\n",
    "    c = (random.randint(0,255), random.randint(0,255), random.randint(0,255))\n",
    "    cv2.drawContours(dst, contours, idx, c, 2, cv2.LINE_8, hier)\n",
    "    idx = hier[0,idx,0]\n",
    "    "
   ]
  }
 ],
 "metadata": {
  "kernelspec": {
   "display_name": "Python 3",
   "language": "python",
   "name": "python3"
  },
  "language_info": {
   "codemirror_mode": {
    "name": "ipython",
    "version": 3
   },
   "file_extension": ".py",
   "mimetype": "text/x-python",
   "name": "python",
   "nbconvert_exporter": "python",
   "pygments_lexer": "ipython3",
   "version": "3.7.7"
  }
 },
 "nbformat": 4,
 "nbformat_minor": 5
}
