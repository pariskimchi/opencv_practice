{
 "cells": [
  {
   "cell_type": "code",
   "execution_count": 2,
   "id": "368e500c",
   "metadata": {},
   "outputs": [],
   "source": [
    "import cv2 \n",
    "import numpy as np\n"
   ]
  },
  {
   "cell_type": "code",
   "execution_count": 3,
   "id": "c9176c24",
   "metadata": {},
   "outputs": [
    {
     "name": "stdout",
     "output_type": "stream",
     "text": [
      "세로: 427 가로: 640 색상: 3\n"
     ]
    },
    {
     "data": {
      "text/plain": [
       "array([111, 131, 132], dtype=uint8)"
      ]
     },
     "execution_count": 3,
     "metadata": {},
     "output_type": "execute_result"
    }
   ],
   "source": [
    "# 이미지 특정 추출 \n",
    "img = cv2.imread('a.jpg',1)\n",
    "h,w,c = img.shape\n",
    "print('세로:',h,'가로:',w,'색상:',c)\n",
    "p = img[100,100]\n",
    "p"
   ]
  },
  {
   "cell_type": "code",
   "execution_count": 4,
   "id": "5571610a",
   "metadata": {},
   "outputs": [
    {
     "data": {
      "text/plain": [
       "111"
      ]
     },
     "execution_count": 4,
     "metadata": {},
     "output_type": "execute_result"
    }
   ],
   "source": [
    "b_c = img[100,100,0]\n",
    "b_c"
   ]
  },
  {
   "cell_type": "code",
   "execution_count": 7,
   "id": "023e01eb",
   "metadata": {},
   "outputs": [],
   "source": [
    "# 특정 픽셀값 변경 \n",
    "img[100,100] = [255,255,255]\n",
    "cv2.imshow('img',img)\n",
    "cv2.waitKey(0)\n",
    "cv2.destroyAllWindows()"
   ]
  },
  {
   "cell_type": "code",
   "execution_count": 6,
   "id": "94366103",
   "metadata": {},
   "outputs": [
    {
     "data": {
      "text/plain": [
       "255"
      ]
     },
     "execution_count": 6,
     "metadata": {},
     "output_type": "execute_result"
    }
   ],
   "source": [
    "# img.item 특정 픽셀을 나타내는 속성 \n",
    "p2 = img.item(100,100,2)\n",
    "p2"
   ]
  },
  {
   "cell_type": "code",
   "execution_count": 9,
   "id": "d5160a1d",
   "metadata": {},
   "outputs": [],
   "source": [
    "# 특정 위치의 픽셀값 변경 \n",
    "img.itemset((100,100,0),0)\n",
    "img.itemset((100, 100, 1), 0)\n",
    "img.itemset((100, 100, 2), 0)\n",
    "cv2.imshow('img',img)\n",
    "cv2.waitKey(0)\n",
    "cv2.destroyAllWindows()"
   ]
  },
  {
   "cell_type": "code",
   "execution_count": 10,
   "id": "3f68b1e1",
   "metadata": {},
   "outputs": [
    {
     "data": {
      "text/plain": [
       "(427, 640, 3)"
      ]
     },
     "execution_count": 10,
     "metadata": {},
     "output_type": "execute_result"
    }
   ],
   "source": [
    "# 전체 픽셀수 \n",
    "img.shape"
   ]
  },
  {
   "cell_type": "code",
   "execution_count": 11,
   "id": "47196d09",
   "metadata": {},
   "outputs": [
    {
     "data": {
      "text/plain": [
       "819840"
      ]
     },
     "execution_count": 11,
     "metadata": {},
     "output_type": "execute_result"
    }
   ],
   "source": [
    "img.size"
   ]
  },
  {
   "cell_type": "code",
   "execution_count": 13,
   "id": "fb031bd7",
   "metadata": {},
   "outputs": [
    {
     "data": {
      "text/plain": [
       "dtype('uint8')"
      ]
     },
     "execution_count": 13,
     "metadata": {},
     "output_type": "execute_result"
    }
   ],
   "source": [
    "img.dtype # 채널 표현 데이터 타입"
   ]
  },
  {
   "cell_type": "code",
   "execution_count": 16,
   "id": "69babd0c",
   "metadata": {},
   "outputs": [],
   "source": [
    "# roi(region of image) : 이미지의 특정 영역 추출 \n",
    "# roi = img[h시작점:h끝점, x시작점:x끝점]\n",
    "\n",
    "roi = img[:150,:300]\n",
    "cv2.imshow('roi',roi)\n",
    "cv2.imshow('img',img)\n",
    "cv2.waitKey(0)\n",
    "cv2.destroyAllWindows()\n"
   ]
  },
  {
   "cell_type": "code",
   "execution_count": 21,
   "id": "f63c24dd",
   "metadata": {},
   "outputs": [],
   "source": [
    "# 이미지 채널 분리 \n",
    "b,g,r = cv2.split(img)\n",
    "img = cv2.merge((r,g,b))\n",
    "cv2.imshow('img',img)\n",
    "cv2.waitKey(0)\n",
    "cv2.destroyAllWindows()"
   ]
  },
  {
   "cell_type": "code",
   "execution_count": 22,
   "id": "9e4d542f",
   "metadata": {},
   "outputs": [],
   "source": [
    "# cv2.split() 이 비싸므로 numpy 인덱싱으로 접근이 효과적 \n",
    "img_blue = img[:,:,0]\n",
    "img_green = img[:,:,1]\n",
    "img_red = img[:,:,2]\n",
    "img = cv2.merge((img_blue,img_green,img_red))\n",
    "cv2.imshow('img',img)\n",
    "cv2.waitKey(0)\n",
    "cv2.destroyAllWindows()"
   ]
  },
  {
   "cell_type": "code",
   "execution_count": 23,
   "id": "c2ead51a",
   "metadata": {},
   "outputs": [],
   "source": [
    "# 이미지 복사 \n",
    "src = cv2.imread('a.jpg')\n",
    "img1 = src #얕은 복사 \n",
    "img2 = src.copy() # 깊은 복사 \n",
    "img1[100:200,100:200, 2] = 255\n",
    "cv2.imshow('src',src)\n",
    "cv2.imshow('img1',img1)\n",
    "cv2.imshow('img2',img2)\n",
    "cv2.waitKey(0)\n",
    "cv2.destroyAllWindows()\n"
   ]
  },
  {
   "cell_type": "code",
   "execution_count": null,
   "id": "b015db46",
   "metadata": {},
   "outputs": [],
   "source": []
  },
  {
   "cell_type": "code",
   "execution_count": 6,
   "id": "90a21d94",
   "metadata": {},
   "outputs": [],
   "source": [
    "def dragging(event,x,y,flags,param):\n",
    "    global mode \n",
    "    \n",
    "    if event == cv2.EVENT_LBUTTONDOWN:\n",
    "        x_1, y_1 =\n",
    "    "
   ]
  },
  {
   "cell_type": "code",
   "execution_count": 12,
   "id": "73117c30",
   "metadata": {},
   "outputs": [
    {
     "ename": "TypeError",
     "evalue": "function missing required argument 'on_mouse' (pos 2)",
     "output_type": "error",
     "traceback": [
      "\u001b[1;31m---------------------------------------------------------------------------\u001b[0m",
      "\u001b[1;31mTypeError\u001b[0m                                 Traceback (most recent call last)",
      "\u001b[1;32m<ipython-input-12-f434db56e7e0>\u001b[0m in \u001b[0;36m<module>\u001b[1;34m\u001b[0m\n\u001b[0;32m     15\u001b[0m \u001b[0mcv2\u001b[0m\u001b[1;33m.\u001b[0m\u001b[0mimshow\u001b[0m\u001b[1;33m(\u001b[0m\u001b[1;34m'img1'\u001b[0m\u001b[1;33m,\u001b[0m\u001b[0mimg1\u001b[0m\u001b[1;33m)\u001b[0m\u001b[1;33m\u001b[0m\u001b[1;33m\u001b[0m\u001b[0m\n\u001b[0;32m     16\u001b[0m \u001b[0mcv2\u001b[0m\u001b[1;33m.\u001b[0m\u001b[0mnamedWindow\u001b[0m\u001b[1;33m(\u001b[0m\u001b[1;34m'img2'\u001b[0m\u001b[1;33m)\u001b[0m\u001b[1;33m\u001b[0m\u001b[1;33m\u001b[0m\u001b[0m\n\u001b[1;32m---> 17\u001b[1;33m \u001b[0mcv2\u001b[0m\u001b[1;33m.\u001b[0m\u001b[0msetMouseCallback\u001b[0m\u001b[1;33m(\u001b[0m\u001b[1;34m'img2'\u001b[0m\u001b[1;33m)\u001b[0m\u001b[1;33m\u001b[0m\u001b[1;33m\u001b[0m\u001b[0m\n\u001b[0m\u001b[0;32m     18\u001b[0m \u001b[0mcv2\u001b[0m\u001b[1;33m.\u001b[0m\u001b[0mwaitKey\u001b[0m\u001b[1;33m(\u001b[0m\u001b[1;36m0\u001b[0m\u001b[1;33m)\u001b[0m\u001b[1;33m\u001b[0m\u001b[1;33m\u001b[0m\u001b[0m\n\u001b[0;32m     19\u001b[0m \u001b[0mcv2\u001b[0m\u001b[1;33m.\u001b[0m\u001b[0mdestroyAllWindows\u001b[0m\u001b[1;33m(\u001b[0m\u001b[1;33m)\u001b[0m\u001b[1;33m\u001b[0m\u001b[1;33m\u001b[0m\u001b[0m\n",
      "\u001b[1;31mTypeError\u001b[0m: function missing required argument 'on_mouse' (pos 2)"
     ]
    }
   ],
   "source": [
    "import cv2 \n",
    "import numpy as np\n",
    "\n",
    "mode =True\n",
    "\n",
    "\n",
    "img1 = cv2.imread('a.jpg')\n",
    "img2 = np.ones((512,512), dtype=np.uint8)*255\n",
    "\n",
    "# if event == cv2.EVENT_LBUTTONDOWN:\n",
    "#     print('button')\n",
    "\n",
    "\n",
    "\n",
    "# cv2.imshow('img1',img1)\n",
    "cv2.namedWindow('img2')\n",
    "cv2.setMouseCallback('img2',)\n",
    "cv2.waitKey(0)\n",
    "cv2.destroyAllWindows()"
   ]
  },
  {
   "cell_type": "code",
   "execution_count": 1,
   "id": "a765c9be",
   "metadata": {},
   "outputs": [],
   "source": [
    "import cv2 \n",
    "import numpy as np\n",
    "\n",
    "points = []\n",
    "def get_points(event,x,y,flags,param):\n",
    "    if event == cv2.EVENT_LBUTTONDOWN:\n",
    "        points.append((y,x))\n",
    "        \n",
    "\n",
    "\n",
    "img = np.ones((512,512), dtype=np.uint8)*255\n",
    "cv2.namedWindow('image')\n",
    "cv2.setMouseCallback('image',get_points)"
   ]
  },
  {
   "cell_type": "code",
   "execution_count": 1,
   "id": "d9e40e1e",
   "metadata": {},
   "outputs": [
    {
     "name": "stdout",
     "output_type": "stream",
     "text": [
      "세로시작좌표:180,가로시작좌표:167\n",
      "세로end좌표:273,가로end좌표:242\n",
      "세로시작좌표:113,가로시작좌표:95\n",
      "세로end좌표:266,가로end좌표:343\n",
      "세로시작좌표:100,가로시작좌표:75\n",
      "세로end좌표:284,가로end좌표:379\n",
      "세로시작좌표:78,가로시작좌표:85\n",
      "세로end좌표:278,가로end좌표:345\n"
     ]
    }
   ],
   "source": [
    "import cv2 \n",
    "import numpy as np\n",
    "\n",
    "points_start = []\n",
    "points_end = []\n",
    "def get_points(event,w,h,flags,param):\n",
    "    if event == cv2.EVENT_LBUTTONDOWN:\n",
    "        points_start.append((h,w))\n",
    "        print('세로시작좌표:{},가로시작좌표:{}'.format(h,w))\n",
    "        cv2.imshow('image',img)\n",
    "    elif event == cv2.EVENT_LBUTTONUP:\n",
    "        points_end.append((h,w))\n",
    "        print('세로end좌표:{},가로end좌표:{}'.format(h,w))\n",
    "        cv2.imshow('image',img)\n",
    "\n",
    "# 빈 image생성 \n",
    "# img = np.ones((800,800), dtype=np.uint8)*255\n",
    "img = cv2.imread('a.jpg',1)\n",
    "\n",
    "cv2.namedWindow('image')\n",
    "cv2.setMouseCallback('image',get_points)\n",
    "\n",
    "while(1):\n",
    "    cv2.imshow('image',img)\n",
    "    if cv2.waitKey(0):\n",
    "        break\n",
    "        \n",
    "cv2.destroyAllWindows()\n"
   ]
  },
  {
   "cell_type": "code",
   "execution_count": 3,
   "id": "a68927e5",
   "metadata": {},
   "outputs": [
    {
     "name": "stdout",
     "output_type": "stream",
     "text": [
      "세로시작좌표:93,가로시작좌표:557\n",
      "세로end좌표:245,가로end좌표:612\n"
     ]
    }
   ],
   "source": [
    "import cv2 \n",
    "import numpy as np\n",
    "\n",
    "img = cv2.imread('a.jpg',1)\n",
    "cv2.imshow('image',img)\n",
    "\n",
    "\n",
    "img2 = np.ones((800,800,3), dtype=np.uint8)*255\n",
    "cv2.imshow('image2',img2)\n",
    "\n",
    "def dragging(event,w,h,flags,param):\n",
    "    global drag,w1,h1,w2,h2,roi\n",
    "    if event == cv2.EVENT_LBUTTONDOWN:\n",
    "        h1=h\n",
    "        w1=w\n",
    "        print('세로시작좌표:{},가로시작좌표:{}'.format(h1,w1))\n",
    "        cv2.imshow('image',img)\n",
    "        \n",
    "    elif event == cv2.EVENT_LBUTTONUP:\n",
    "        h2=h\n",
    "        w2=w\n",
    "        print('세로end좌표:{},가로end좌표:{}'.format(h2,w2))\n",
    "        roi = img[h1:h2,w1:w2]\n",
    "           \n",
    "def copy_img(event,w,h,flags,param):\n",
    "    global w1,h1,w2,h2,roi\n",
    "   \n",
    "    if event == cv2.EVENT_LBUTTONDOWN:\n",
    "        \n",
    "        if ((h2-h1)>0) & ((w2-w1)>0):\n",
    "            img2[h1:h2,w1:w2] = roi\n",
    "#             img_draw = img.copy()\n",
    "#             cv2.imshow('img_draw',img2)\n",
    "#             roi = img[h1:h2,w1:w2]\n",
    "            cv2.imshow('image2',img2)\n",
    "\n",
    "\n",
    "cv2.setMouseCallback('image',dragging)\n",
    "cv2.setMouseCallback('image2',copy_img)\n",
    "\n",
    "\n",
    "cv2.waitKey(0)        \n",
    "cv2.destroyAllWindows()\n"
   ]
  },
  {
   "cell_type": "code",
   "execution_count": null,
   "id": "6f90ef8f",
   "metadata": {},
   "outputs": [],
   "source": []
  }
 ],
 "metadata": {
  "kernelspec": {
   "display_name": "Python 3",
   "language": "python",
   "name": "python3"
  },
  "language_info": {
   "codemirror_mode": {
    "name": "ipython",
    "version": 3
   },
   "file_extension": ".py",
   "mimetype": "text/x-python",
   "name": "python",
   "nbconvert_exporter": "python",
   "pygments_lexer": "ipython3",
   "version": "3.7.7"
  }
 },
 "nbformat": 4,
 "nbformat_minor": 5
}
