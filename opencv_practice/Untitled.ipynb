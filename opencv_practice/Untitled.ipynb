{
 "cells": [
  {
   "cell_type": "code",
   "execution_count": 22,
   "id": "48824ae6",
   "metadata": {},
   "outputs": [
    {
     "ename": "AttributeError",
     "evalue": "module 'cv2.cv2' has no attribute 'destroyAllwindows'",
     "output_type": "error",
     "traceback": [
      "\u001b[1;31m---------------------------------------------------------------------------\u001b[0m",
      "\u001b[1;31mAttributeError\u001b[0m                            Traceback (most recent call last)",
      "\u001b[1;32m<ipython-input-22-e5533a0e7ea8>\u001b[0m in \u001b[0;36m<module>\u001b[1;34m\u001b[0m\n\u001b[0;32m     40\u001b[0m \u001b[1;33m\u001b[0m\u001b[0m\n\u001b[0;32m     41\u001b[0m \u001b[0mcv2\u001b[0m\u001b[1;33m.\u001b[0m\u001b[0mwaitKey\u001b[0m\u001b[1;33m(\u001b[0m\u001b[1;36m0\u001b[0m\u001b[1;33m)\u001b[0m\u001b[1;33m\u001b[0m\u001b[1;33m\u001b[0m\u001b[0m\n\u001b[1;32m---> 42\u001b[1;33m \u001b[0mcv2\u001b[0m\u001b[1;33m.\u001b[0m\u001b[0mdestroyAllwindows\u001b[0m\u001b[1;33m(\u001b[0m\u001b[1;33m)\u001b[0m\u001b[1;33m\u001b[0m\u001b[1;33m\u001b[0m\u001b[0m\n\u001b[0m",
      "\u001b[1;31mAttributeError\u001b[0m: module 'cv2.cv2' has no attribute 'destroyAllwindows'"
     ]
    }
   ],
   "source": [
    "import cv2 \n",
    "import numpy as np\n",
    "\n",
    "mode = True\n",
    "\n",
    "\n",
    "back = np.ones((512,512), dtype=np.uint8)*255\n",
    "\n",
    "for i in range(50,510,100):\n",
    "    back = cv2.line(back,(i,0),(i,511),(0,0,0),2)\n",
    "    back = cv2.line(back,(0,i),(511,i),(0,0,0),2)\n",
    "#     for j in range(50,510,100):\n",
    "#         back = cv2.circle(back,(i,j),10,(0,255,0),5)   \n",
    "\n",
    "def draw_circle(event,x,y,flags,param):\n",
    "    global  mode\n",
    "    if event == cv2.EVENT_LBUTTONDOWN:\n",
    "        c=255 # 바둑알 색깔 흰색, \n",
    "        \n",
    "        if mode:\n",
    "            c=0 # mode가 True이면 바둑알 검정색으로\n",
    "            \n",
    "        mode = not mode\n",
    "        cv2.circle(back,(x,y),20,(c,c,c),-1)\n",
    "        \n",
    "        if mode: #바둑알이 흰색일때\n",
    "            cv2.circle(back,(x,y),21,(0,0,0),1) # 바둑알 테두리 그려라 검정색으로\n",
    "        \n",
    "        cv2.imshow('back',back)\n",
    "\n",
    "\n",
    "\n",
    "\n",
    "\n",
    "cv2.namedWindow('back')\n",
    "cv2.setMouseCallback('back',draw_circle)\n",
    "\n",
    "cv2.imshow('back',back)\n",
    "# cv2.imshow('img',img)\n",
    "\n",
    "cv2.waitKey(0)\n",
    "cv2.destroyAllwindows()"
   ]
  },
  {
   "cell_type": "code",
   "execution_count": null,
   "id": "294bf625",
   "metadata": {},
   "outputs": [],
   "source": []
  }
 ],
 "metadata": {
  "kernelspec": {
   "display_name": "Python 3",
   "language": "python",
   "name": "python3"
  },
  "language_info": {
   "codemirror_mode": {
    "name": "ipython",
    "version": 3
   },
   "file_extension": ".py",
   "mimetype": "text/x-python",
   "name": "python",
   "nbconvert_exporter": "python",
   "pygments_lexer": "ipython3",
   "version": "3.7.7"
  }
 },
 "nbformat": 4,
 "nbformat_minor": 5
}
