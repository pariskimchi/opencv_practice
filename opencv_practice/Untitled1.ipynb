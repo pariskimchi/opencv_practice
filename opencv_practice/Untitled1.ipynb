{
 "cells": [
  {
   "cell_type": "code",
   "execution_count": 12,
   "id": "ab1147a9",
   "metadata": {},
   "outputs": [
    {
     "ename": "TypeError",
     "evalue": "Expected Ptr<cv::UMat> for argument 'mat'",
     "output_type": "error",
     "traceback": [
      "\u001b[1;31m---------------------------------------------------------------------------\u001b[0m",
      "\u001b[1;31mTypeError\u001b[0m                                 Traceback (most recent call last)",
      "\u001b[1;32m<ipython-input-12-efaef0e40b34>\u001b[0m in \u001b[0;36m<module>\u001b[1;34m\u001b[0m\n\u001b[0;32m     43\u001b[0m \u001b[1;33m\u001b[0m\u001b[0m\n\u001b[0;32m     44\u001b[0m \u001b[1;31m# cv2.imshow('src_bin',src_bin)\u001b[0m\u001b[1;33m\u001b[0m\u001b[1;33m\u001b[0m\u001b[1;33m\u001b[0m\u001b[0m\n\u001b[1;32m---> 45\u001b[1;33m \u001b[0mcv2\u001b[0m\u001b[1;33m.\u001b[0m\u001b[0mimshow\u001b[0m\u001b[1;33m(\u001b[0m\u001b[1;34m'dst'\u001b[0m\u001b[1;33m,\u001b[0m\u001b[0mdst\u001b[0m\u001b[1;33m)\u001b[0m\u001b[1;33m\u001b[0m\u001b[1;33m\u001b[0m\u001b[0m\n\u001b[0m\u001b[0;32m     46\u001b[0m \u001b[0mcv2\u001b[0m\u001b[1;33m.\u001b[0m\u001b[0mwaitKey\u001b[0m\u001b[1;33m(\u001b[0m\u001b[1;33m)\u001b[0m\u001b[1;33m\u001b[0m\u001b[1;33m\u001b[0m\u001b[0m\n\u001b[0;32m     47\u001b[0m \u001b[0mcv2\u001b[0m\u001b[1;33m.\u001b[0m\u001b[0mdestroyAllWindows\u001b[0m\u001b[1;33m(\u001b[0m\u001b[1;33m)\u001b[0m\u001b[1;33m\u001b[0m\u001b[1;33m\u001b[0m\u001b[0m\n",
      "\u001b[1;31mTypeError\u001b[0m: Expected Ptr<cv::UMat> for argument 'mat'"
     ]
    }
   ],
   "source": [
    "import cv2 \n",
    "import numpy as np\n",
    "\n",
    "src = cv2.imread('polygon.bmp',cv2.IMREAD_GRAYSCALE)\n",
    "\n",
    "_, src1 = cv2.threshold(src,0,255,cv2.THRESH_BINARY_INV)\n",
    "_, src2 = cv2.threshold(src,0,255,cv2.THRESH_OTSU)\n",
    "_, src_bin = cv2.threshold(src,0,255,cv2.THRESH_BINARY_INV|cv2.THRESH_OTSU)\n",
    "\n",
    "cnt, labels, stats, centroids = cv2.connectedComponentsWithStats(src_bin)\n",
    "\n",
    "dst = cv2.cvtColor(src,cv2.COLOR_GRAY2BGR)\n",
    "\n",
    "\n",
    "\n",
    "shapes=[]\n",
    "centroids2=[]\n",
    "for i in range(1, cnt):\n",
    "    (x,y,w,h,area) = stats[i]\n",
    "    \n",
    "    if area < 20:\n",
    "        continue\n",
    "    \n",
    "    cx = centroids[i][0]-x\n",
    "    cy = centroids[i][1]-y\n",
    "    centroids2.append([cx,cy])\n",
    "    sh = src[y:y+h, x:x+h]\n",
    "    cv2.circle(sh,(int(cx),int(cy)),2,255,-1)\n",
    "    shapes.append(sh)\n",
    "\n",
    "cnt = 0 \n",
    "for s in shapes:\n",
    "    cv2.imshow('s'+str(cnt),s)\n",
    "    cnt+=1\n",
    "    \n",
    "dst = []\n",
    "for i in range(len(shapes)):\n",
    "    M = cv2.getRotationMatrix2D((int(centroids2[i][0]), int(centroids2[i][1])))\n",
    "    \n",
    "#     cv2.rectangle(dst,(x,y,w,h),(0,255,255))\n",
    "\n",
    "# cv2.imshow('src',src)\n",
    "# cv2.imshow('src1',src1)\n",
    "# cv2.imshow('src2',src2)\n",
    "\n",
    "# cv2.imshow('src_bin',src_bin)\n",
    "cv2.imshow('dst',dst)\n",
    "cv2.waitKey()\n",
    "cv2.destroyAllWindows()"
   ]
  },
  {
   "cell_type": "code",
   "execution_count": null,
   "id": "672628ce",
   "metadata": {},
   "outputs": [],
   "source": []
  }
 ],
 "metadata": {
  "kernelspec": {
   "display_name": "Python 3",
   "language": "python",
   "name": "python3"
  },
  "language_info": {
   "codemirror_mode": {
    "name": "ipython",
    "version": 3
   },
   "file_extension": ".py",
   "mimetype": "text/x-python",
   "name": "python",
   "nbconvert_exporter": "python",
   "pygments_lexer": "ipython3",
   "version": "3.7.7"
  }
 },
 "nbformat": 4,
 "nbformat_minor": 5
}
