{
 "cells": [
  {
   "cell_type": "markdown",
   "id": "0af6b6e9",
   "metadata": {},
   "source": [
    "샤프닝 \\\n",
    "영상의 윤곽을 뚜렷하고 선명하게 하는 필터링. \n",
    "\n",
    "언샤프닝:\\\n",
    "샤프닝을 위해서는 블러링된 영상 사용"
   ]
  },
  {
   "cell_type": "code",
   "execution_count": 27,
   "id": "3030a1cc",
   "metadata": {},
   "outputs": [],
   "source": [
    "import cv2 \n",
    "import numpy as np\n",
    "\n",
    "img = cv2.imread('b.jpg',1)\n",
    "\n",
    "cv2.imshow('img',img)\n",
    "\n",
    "blr = cv2.GaussianBlur(img,(5,5),100)\n",
    "dst = np.clip(2.0*img - blr, 0, 255).astype('uint8')\n",
    "\n",
    "cv2.imshow('dst',dst)\n",
    "\n",
    "cv2.waitKey(0)\n",
    "cv2.destroyAllWindows()"
   ]
  },
  {
   "cell_type": "markdown",
   "id": "d7790034",
   "metadata": {},
   "source": [
    "잡음제거 opencv 함수\n",
    "\n",
    "앞에서 살펴본 gaussian blur 함수로 노이즈를 제거할 수 있지만\\\n",
    "노이즈를 제거하면 경계선도 흐릿해진다."
   ]
  },
  {
   "cell_type": "markdown",
   "id": "4352cc72",
   "metadata": {},
   "source": [
    "이를 보완해서 노이즈는 흐리게 하고 경계선은 명확하게 하는 블러링 방법이\\\n",
    "양 방향 필터링이다"
   ]
  },
  {
   "cell_type": "markdown",
   "id": "1ad5721c",
   "metadata": {},
   "source": [
    "#### cv2.bilateralFilter(src,d,sigmaColor,sigmaSpace,borderType)"
   ]
  },
  {
   "cell_type": "markdown",
   "id": "7a6ad8e7",
   "metadata": {},
   "source": [
    "src-image\\\n",
    "d- filtering 시 고려할 주변 pixel지름\\\n",
    "sigmaColor- 색 공간 표준편차\\\n",
    "sigmaSpace- 좌표 공간 표준편차"
   ]
  },
  {
   "cell_type": "code",
   "execution_count": 25,
   "id": "a891142a",
   "metadata": {},
   "outputs": [],
   "source": [
    "img = cv2.imread('c.jpg')\n",
    "\n",
    "x = img.copy() # 노이즈 생성할 배열, 이미지와 동일 모양\n",
    "x  = x.astype('int8')\n",
    "cv2.randn(x,0,0.5) #가우시안 난수 생성 배열 x에 담음\n",
    "x = x.astype('uint8')# 이미지 타입으로 변환\n",
    "y = cv2.add(img,x)\n",
    "\n",
    "cv2.imshow('x',x)\n",
    "cv2.imshow('img',img)\n",
    "cv2.imshow('img2',y)\n",
    "cv2.waitKey(0)\n",
    "cv2.destroyAllWindows()"
   ]
  },
  {
   "cell_type": "code",
   "execution_count": 26,
   "id": "0fd945ce",
   "metadata": {},
   "outputs": [],
   "source": [
    "img = cv2.imread('c.jpg')\n",
    "\n",
    "x = img.copy() # 노이즈 생성할 배열, 이미지와 동일 모양\n",
    "x  = x.astype('int8')\n",
    "cv2.randn(x,0,0.5) #가우시안 난수 생성 배열 x에 담음\n",
    "x = x.astype('uint8')# 이미지 타입으로 변환\n",
    "y = cv2.add(img,x)\n",
    "\n",
    "dst = cv2.bilateralFilter(y,9,100,100)\n",
    "\n",
    "\n",
    "cv2.imshow('x',x)\n",
    "cv2.imshow('img',img)\n",
    "cv2.imshow('img2',y)\n",
    "cv2.imshow('bila',dst)\n",
    "cv2.waitKey(0)\n",
    "cv2.destroyAllWindows()"
   ]
  },
  {
   "cell_type": "markdown",
   "id": "5249df34",
   "metadata": {},
   "source": [
    "잡음이 소금과 후추처럼 도드라진 점을 제거하는것은 \\\n",
    "미디언 필터가 더 효과적이다 \\\n",
    "이 필터는 커널의 값들을 정렬하여 중간값을 앵커로 지정하여\\\n",
    "연산하는 필터링이다.\n"
   ]
  },
  {
   "cell_type": "markdown",
   "id": "25f182e9",
   "metadata": {},
   "source": [
    "## 도전\\\n",
    "1.사진을 찍는다 \\\n",
    "2.찍은 사진을 편집(엠보싱,모션블러,블러,샤프닝,잡티추가,잡티제거)\n"
   ]
  },
  {
   "cell_type": "markdown",
   "id": "504c652e",
   "metadata": {},
   "source": [
    "## 내 설계 생각"
   ]
  },
  {
   "cell_type": "markdown",
   "id": "048dea06",
   "metadata": {},
   "source": [
    "기능들, cv2. 함수들로 구현되어 있으니 \n",
    "def로 함수 만들어서 \n"
   ]
  },
  {
   "cell_type": "code",
   "execution_count": null,
   "id": "038a6792",
   "metadata": {},
   "outputs": [],
   "source": []
  }
 ],
 "metadata": {
  "kernelspec": {
   "display_name": "Python 3",
   "language": "python",
   "name": "python3"
  },
  "language_info": {
   "codemirror_mode": {
    "name": "ipython",
    "version": 3
   },
   "file_extension": ".py",
   "mimetype": "text/x-python",
   "name": "python",
   "nbconvert_exporter": "python",
   "pygments_lexer": "ipython3",
   "version": "3.7.7"
  }
 },
 "nbformat": 4,
 "nbformat_minor": 5
}
