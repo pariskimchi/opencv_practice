{
 "cells": [
  {
   "cell_type": "markdown",
   "id": "6f8608d6",
   "metadata": {},
   "source": [
    "에지 검출"
   ]
  },
  {
   "cell_type": "code",
   "execution_count": 13,
   "id": "2c2469f1",
   "metadata": {},
   "outputs": [],
   "source": [
    "import cv2 \n",
    "import numpy as np\n",
    "\n",
    "grayscale = cv2.imread('namecard1.png',0)\n",
    "grayscale[grayscale[:]<200] = 0\n",
    "grayscale[grayscale[:]>250]=255\n",
    "\n",
    "# diff의 결과가 255 or 1\n",
    "res = np.diff(grayscale)# 양 옆 픽셀과의 차 \n",
    "res1 = np.where(res==255) # 차가 255인 픽셀\n",
    "res2= np.where(res==1)\n",
    "res1\n",
    "\n",
    "for i in range(0, len(res1[0])):\n",
    "    cv2.circle(grayscale,(res1[1][i], res1[0][i]),1,128,1)\n",
    "    \n",
    "\n",
    "cv2.imshow('grayscale',grayscale)\n",
    "cv2.waitKey(0)\n",
    "cv2.destroyAllWindows()"
   ]
  },
  {
   "cell_type": "code",
   "execution_count": 9,
   "id": "d8a04d6b",
   "metadata": {},
   "outputs": [
    {
     "data": {
      "text/plain": [
       "(array([0, 1, 1], dtype=int64), array([1, 0, 2], dtype=int64))"
      ]
     },
     "execution_count": 9,
     "metadata": {},
     "output_type": "execute_result"
    }
   ],
   "source": [
    "arr = np.array([[1,2,3],[4,5,6]])\n",
    "a = np.where(arr%2==0)\n",
    "a"
   ]
  },
  {
   "cell_type": "code",
   "execution_count": null,
   "id": "8f6007c0",
   "metadata": {},
   "outputs": [],
   "source": [
    "\n",
    "cv2.imshow('grayscale',grayscale)\n",
    "cv2.waitKey(0)\n",
    "cv2.destroyAllWindows()"
   ]
  },
  {
   "cell_type": "markdown",
   "id": "448b1a68",
   "metadata": {},
   "source": [
    "소벨 필터\\\n",
    "cv2.Sobel"
   ]
  },
  {
   "cell_type": "code",
   "execution_count": null,
   "id": "c54522af",
   "metadata": {},
   "outputs": [],
   "source": [
    "import numpy as np\n",
    "import cv2 \n",
    "\n",
    "src = cv2.imread('c.jpg',cv2.IMREAD_GRAYSCALE)\n",
    "\n",
    "dx = cv2.Sobel()"
   ]
  },
  {
   "cell_type": "markdown",
   "id": "5599048f",
   "metadata": {},
   "source": [
    "샤르 필터\\\n"
   ]
  },
  {
   "cell_type": "code",
   "execution_count": null,
   "id": "417d0c29",
   "metadata": {},
   "outputs": [],
   "source": []
  },
  {
   "cell_type": "markdown",
   "id": "45ce4ae0",
   "metadata": {},
   "source": [
    "gradient\\\n",
    "영상을 편미분하여 구한 벡터\\\n",
    "그래디언트 크기: 픽셀 값 차이 크기\\\n",
    "그래디언트 방향: 픽셀 값이 가장 급격하게 증가하는 방향"
   ]
  },
  {
   "cell_type": "markdown",
   "id": "1e2c1e80",
   "metadata": {},
   "source": [
    "크기 계산 함수\\\n",
    "cv2.magnitude(x,y) = > 2D 벡터 크기 행렬 반환\\\n",
    "x: x축 미분값\\\n",
    "y:y축 미분값"
   ]
  },
  {
   "cell_type": "code",
   "execution_count": 15,
   "id": "da05d4ac",
   "metadata": {},
   "outputs": [],
   "source": [
    "import numpy as np\n",
    "import cv2\n",
    "\n",
    "src = cv2.imread('c.jpg',cv2.IMREAD_GRAYSCALE)\n",
    "\n",
    "dx = cv2.Sobel(src,cv2.CV_32F,1,0)\n",
    "dy = cv2.Sobel(src,cv2.CV_32F,0,1)\n",
    "\n",
    "mag = cv2.magnitude(dx,dy)\n",
    "mag = np.clip(mag,0,255).astype(np.uint8)\n",
    "\n",
    "dst = np.zeros(src.shape[:2], np.uint8)\n",
    "# 120보다 큰건 흰색으로 설정\n",
    "dst[mag > 120] = 255\n",
    "\n",
    "cv2.imshow('src',src)\n",
    "cv2.imshow('dst',dst)\n",
    "cv2.waitKey(0)\n",
    "cv2.destroyAllWindows()\n",
    "\n"
   ]
  },
  {
   "cell_type": "markdown",
   "id": "74df4ff9",
   "metadata": {},
   "source": [
    "케니 에지 검출\\\n",
    "에지를 잘 검출하려면?\\\n",
    "정확한 검출: 점이나 노이즈를 에지로 찾거나 에지를 놓치는 확률 최소화\\\n",
    "정확한 위치: 에지 중심 검출\\\n",
    "단일 에지: 하나의 에지는 하나의 점으로 표현\n"
   ]
  },
  {
   "cell_type": "markdown",
   "id": "6d74435c",
   "metadata": {},
   "source": [
    "케니 에지 검출 단계\\\n",
    "1. 가우시안 필터링: 잡음제거\\\n",
    "2. gradient 계산: 소벨 마스크 이용해서, 크기 방향 계산\\\n",
    "3.비최대 억제: 하나의 에지가 여러개 픽셀로 표현되는것을 막기 위해\\\n",
    "그래디언트 크기가 국지적 최대인 픽셀만 선택\\\n",
    "4. 히스테리시스 에지 트래킹: 걸러진 에지 중에서 약한 에지는 버리고\\\n",
    "강한 에지와 연결된 에지만 최종 선택"
   ]
  },
  {
   "cell_type": "markdown",
   "id": "e272c8e3",
   "metadata": {},
   "source": [
    "### 케니 함수\n",
    "\n",
    "cv2.Canny(img,threshold1,threshold2,apertureSiz=None,L2gradient=None)\\\n",
    "=> 에지 영상 반환\\\n",
    "threshodl1 - Hysteresis Thredsholding 작업에서의 min값\\\n",
    "threshold2 - Hysteresis Thredsholding 작업에서의 max값\\\n",
    "apertureSiz=>소벨 연산에 사용할 커널 크기\\\n",
    "L2gradient- 그래디언트 계산 수식 지정, True, False(기본값)\\"
   ]
  },
  {
   "cell_type": "markdown",
   "id": "a6a03107",
   "metadata": {},
   "source": [
    "### 이진화 임계값 함수\\\n",
    "cv2.threshold(src,thresh,maxval,type)=> (임계값, 이진화 영상)\\\n",
    "thresh: 이진화 임계값\\\n",
    "maxval: 임계값을 넘었을때 적용할 value\\\n",
    "type:이진화 종류 지정"
   ]
  },
  {
   "cell_type": "code",
   "execution_count": 17,
   "id": "354a86b0",
   "metadata": {},
   "outputs": [],
   "source": [
    "import numpy as np\n",
    "import cv2 \n",
    "\n",
    "src = cv2.imread('building.jpg',cv2.IMREAD_GRAYSCALE)\n",
    "\n",
    "dst = cv2.Canny(src,50,150)\n",
    "\n",
    "cv2.imshow('src',src)\n",
    "cv2.imshow('dst',dst)\n",
    "cv2.waitKey(0)\n",
    "\n",
    "cv2.destroyAllWindows()"
   ]
  },
  {
   "cell_type": "markdown",
   "id": "78f3357c",
   "metadata": {},
   "source": [
    "## 허프 변환 직선 검출\\\n",
    "직선의 방정식은 \\\n",
    "y = ax+b\\\n"
   ]
  },
  {
   "cell_type": "code",
   "execution_count": null,
   "id": "f6fba5d5",
   "metadata": {},
   "outputs": [],
   "source": []
  }
 ],
 "metadata": {
  "kernelspec": {
   "display_name": "Python 3",
   "language": "python",
   "name": "python3"
  },
  "language_info": {
   "codemirror_mode": {
    "name": "ipython",
    "version": 3
   },
   "file_extension": ".py",
   "mimetype": "text/x-python",
   "name": "python",
   "nbconvert_exporter": "python",
   "pygments_lexer": "ipython3",
   "version": "3.7.7"
  }
 },
 "nbformat": 4,
 "nbformat_minor": 5
}
