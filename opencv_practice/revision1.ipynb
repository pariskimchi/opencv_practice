{
 "cells": [
  {
   "cell_type": "code",
   "execution_count": 2,
   "id": "38d46ecc",
   "metadata": {},
   "outputs": [],
   "source": [
    "import cv2 \n",
    "import numpy as np\n"
   ]
  },
  {
   "cell_type": "code",
   "execution_count": 3,
   "id": "86d56b32",
   "metadata": {},
   "outputs": [],
   "source": [
    "img1 = np.empty((200,300),dtype=np.uint8) #그레이 스케일 이미지\n",
    "img2 = np.zeros((200,300,3), dtype=np.uint8) #칼라 이미지 \n",
    "img3 = np.ones((200,300),dtype=np.uint8)*255 #그레이 스케일 이미지 노랑\n",
    "img4 = np.full((200,300,3),(0,255,255), dtype=np.uint8) # 칼라 이미지 노란바탕\n",
    "\n",
    "cv2.imshow('img1',img1)\n",
    "cv2.imshow('img2',img2)\n",
    "cv2.imshow('img3',img3)\n",
    "cv2.imshow('img4',img4)\n",
    "\n",
    "cv2.waitKey(0)\n",
    "cv2.destroyAllWindows()"
   ]
  },
  {
   "cell_type": "code",
   "execution_count": 5,
   "id": "865a0d57",
   "metadata": {},
   "outputs": [],
   "source": [
    "# 이미지 읽기 \n",
    "# cv2.imread('파일경로',flag)\n",
    "#flag - cv2.IMREAD_COLOR 상수 1\n",
    "# cv2.IMREAD_GRAYSCALE  상수 0\n",
    "#cv2.IMREAD_UNCHANGED 상수 -1\n",
    "\n",
    "fname = 'a.jpg'\n",
    "\n",
    "original = cv2.imread(fname,cv2.IMREAD_COLOR)\n",
    "\n",
    "cv2.imshow('original',original)\n",
    "\n",
    "cv2.waitKey(0)\n",
    "cv2.destroyAllWindows()"
   ]
  },
  {
   "cell_type": "markdown",
   "id": "c71579fd",
   "metadata": {},
   "source": [
    "## 카메라 제어"
   ]
  },
  {
   "cell_type": "code",
   "execution_count": null,
   "id": "8e96fab0",
   "metadata": {},
   "outputs": [],
   "source": [
    "import cv2 \n",
    "import sys\n",
    "\n",
    "cap = cv2.VideoCapture(0) # 카메라 오픈 \n",
    "\n",
    "if not cap.isOpened():\n",
    "    print('카메라 오픈 안됨')\n",
    "    sys.exit(0)\n",
    "    \n",
    "cap.set(3,300) #카메라 영상 가로 길이 300\n",
    "cap.set(4,200) #카메라 영상 세로 길이 200\n",
    "\n",
    "print('영상 가로길이',cap.get(3))\n",
    "print('영상 세로길이',cap.get(4))\n",
    "\n",
    "# 카메라 영상 일긱, ret: 처리결과 / frame: 읽은 영상\n",
    "while True:\n",
    "    ret,frame = cap.read()\n",
    "    if ret:\n",
    "        cv2.imshow('img',frame)\n",
    "    k = cv2.waitKey(1)\n",
    "    if k==27:\n",
    "        "
   ]
  },
  {
   "cell_type": "markdown",
   "id": "2d8f0995",
   "metadata": {},
   "source": [
    "## 그리기"
   ]
  },
  {
   "cell_type": "code",
   "execution_count": 8,
   "id": "2fef34c7",
   "metadata": {},
   "outputs": [
    {
     "data": {
      "text/plain": [
       "['EVENT_FLAG_ALTKEY',\n",
       " 'EVENT_FLAG_CTRLKEY',\n",
       " 'EVENT_FLAG_LBUTTON',\n",
       " 'EVENT_FLAG_MBUTTON',\n",
       " 'EVENT_FLAG_RBUTTON',\n",
       " 'EVENT_FLAG_SHIFTKEY',\n",
       " 'EVENT_LBUTTONDBLCLK',\n",
       " 'EVENT_LBUTTONDOWN',\n",
       " 'EVENT_LBUTTONUP',\n",
       " 'EVENT_MBUTTONDBLCLK',\n",
       " 'EVENT_MBUTTONDOWN',\n",
       " 'EVENT_MBUTTONUP',\n",
       " 'EVENT_MOUSEHWHEEL',\n",
       " 'EVENT_MOUSEMOVE',\n",
       " 'EVENT_MOUSEWHEEL',\n",
       " 'EVENT_RBUTTONDBLCLK',\n",
       " 'EVENT_RBUTTONDOWN',\n",
       " 'EVENT_RBUTTONUP']"
      ]
     },
     "execution_count": 8,
     "metadata": {},
     "output_type": "execute_result"
    }
   ],
   "source": [
    "# 선그리기 -cv2.line(선그릴 경로, 시작점(x,y좌표),끝점좌표, 선색상, 선두께)\n",
    "\n",
    "events = [i for i in dir(cv2) if 'EVENT' in i]\n",
    "events"
   ]
  },
  {
   "cell_type": "markdown",
   "id": "c5db8e30",
   "metadata": {},
   "source": [
    "## cv2.setMouseCallback(windowName, callback, param) - 마우스 이벤트 핸들러 등록 함수"
   ]
  },
  {
   "cell_type": "code",
   "execution_count": null,
   "id": "dcf60e6f",
   "metadata": {},
   "outputs": [],
   "source": []
  }
 ],
 "metadata": {
  "kernelspec": {
   "display_name": "Python 3",
   "language": "python",
   "name": "python3"
  },
  "language_info": {
   "codemirror_mode": {
    "name": "ipython",
    "version": 3
   },
   "file_extension": ".py",
   "mimetype": "text/x-python",
   "name": "python",
   "nbconvert_exporter": "python",
   "pygments_lexer": "ipython3",
   "version": "3.7.7"
  }
 },
 "nbformat": 4,
 "nbformat_minor": 5
}
