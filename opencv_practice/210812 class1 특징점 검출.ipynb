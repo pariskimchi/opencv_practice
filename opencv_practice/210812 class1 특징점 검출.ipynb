{
 "cells": [
  {
   "cell_type": "code",
   "execution_count": 3,
   "id": "d91736d6",
   "metadata": {},
   "outputs": [],
   "source": [
    "import cv2 \n",
    "import numpy as np\n",
    "import matplotlib.pyplot as plt\n",
    "import sys"
   ]
  },
  {
   "cell_type": "code",
   "execution_count": 7,
   "id": "b60948cf",
   "metadata": {},
   "outputs": [
    {
     "name": "stdout",
     "output_type": "stream",
     "text": [
      "GFTT: 56.7315ms.\n",
      "FAST: 5.4139ms.\n"
     ]
    }
   ],
   "source": [
    "src = cv2.imread('building.jpg', cv2.IMREAD_GRAYSCALE)\n",
    "\n",
    "if src is None:\n",
    "    print('Image load failed!')\n",
    "    sys.exit()\n",
    "\n",
    "tm = cv2.TickMeter()#연산 시간 측정 객체\n",
    "\n",
    "# GFTT\n",
    "tm.start()#시간 측정 시작\n",
    "\n",
    "corners = cv2.goodFeaturesToTrack(src, 400, 0.01, 10)#(이미지, 코너검출최대수, 코너결정상수, 코너사이최소거리)\n",
    "\n",
    "tm.stop()#시간 측정 종료\n",
    "print('GFTT: {}ms.'.format(tm.getTimeMilli()))\n",
    "\n",
    "dst1 = cv2.cvtColor(src, cv2.COLOR_GRAY2BGR)\n",
    "\n",
    "if corners is not None:\n",
    "    for i in range(corners.shape[0]):\n",
    "        pt = (int(corners[i, 0, 0]), int(corners[i, 0, 1]))\n",
    "        cv2.circle(dst1, pt, 5, (0, 0, 255), 2)\n",
    "\n",
    "# FAST\n",
    "tm.reset()\n",
    "tm.start()\n",
    "\n",
    "fast = cv2.FastFeatureDetector_create(60)#(임계값)\n",
    "keypoints = fast.detect(src)\n",
    "\n",
    "tm.stop()\n",
    "print('FAST: {}ms.'.format(tm.getTimeMilli()))\n",
    "\n",
    "dst2 = cv2.cvtColor(src, cv2.COLOR_GRAY2BGR)\n",
    "\n",
    "for kp in keypoints:\n",
    "    pt = (int(kp.pt[0]), int(kp.pt[1]))\n",
    "    cv2.circle(dst2, pt, 5, (0, 0, 255), 2)\n",
    "\n",
    "cv2.imshow('src', src)\n",
    "cv2.imshow('dst1', dst1)\n",
    "cv2.imshow('dst2', dst2)\n",
    "cv2.waitKey()\n",
    "\n",
    "cv2.destroyAllWindows()\n"
   ]
  },
  {
   "cell_type": "markdown",
   "id": "4fc9c739",
   "metadata": {},
   "source": [
    "2.이미지 피라미드\\\n",
    "이미지를 확대. 축소 샘플링(4배, 1/4배 등)\\\n",
    "동작: upsize(zoom in ) / downsize(zoom out)\\\n",
    "\n"
   ]
  },
  {
   "cell_type": "markdown",
   "id": "3c0088e7",
   "metadata": {},
   "source": [
    "[guassian pyramid]\\\n",
    "1) Gaussian Pyramid:이미지다운 샘플링. 모든 레이어는 아래에서 위로 번호가 매겨짐 (i+1). 짝수번째 행과 열을 제거함으로 축소 (1, 1/4, 1/8)\\\n",
    "2) Laplacian Pyramid: 위 가우시안 피라미드 아래층의 이미지로 업 샘플링된 이미지 재구성(해상도 낮음)\\\n",
    "\n"
   ]
  },
  {
   "cell_type": "markdown",
   "id": "02901114",
   "metadata": {},
   "source": [
    "<Gaussian Pyramid 예>\\\n",
    "ig = cv2.imread('k.jpg')\\\n",
    "lower_reso = cv2.pyrDown(img) #원본 이미지 1/4 사이즈\\\n",
    "higher_reso = cv2.pyrUp(img)원본이미지 4배 사이즈\\\n"
   ]
  },
  {
   "cell_type": "markdown",
   "id": "6030b8e3",
   "metadata": {},
   "source": [
    "<Laplacian Pyramid 예>\\\n",
    "가우시안 피라미드로 이미지를 축소했다가 다시 확대하면 이 과정에서 행이나 열이 소실된다. 이렇게 생성된 이미지를 원본 이미지 크기로 변경한 뒤 원본 이미지에서 피라미드 이미지의 차 를 계산하면 이미지 운곽 도출"
   ]
  },
  {
   "cell_type": "code",
   "execution_count": 11,
   "id": "41915341",
   "metadata": {},
   "outputs": [],
   "source": [
    "import cv2 \n",
    "\n",
    "img = cv2.imread('building.jpg')\n",
    "\n",
    "s = cv2.pyrDown(img)  # 원본 이미지의 1/4사이즈\n",
    "l = cv2.pyrUp(s)  #원본 이미지의 4배 사이즈\\\n",
    "\n",
    "h,w,c = img.shape\n",
    "l2 = cv2.resize(l,(w,h))\n",
    "res = cv2.subtract(img,l2)\n",
    "\n",
    "cv2.imshow('img',res)\n",
    "cv2.waitKey(0)\n",
    "cv2.destroyAllWindows()"
   ]
  },
  {
   "cell_type": "code",
   "execution_count": 8,
   "id": "ba9f7501",
   "metadata": {},
   "outputs": [],
   "source": [
    "\n"
   ]
  },
  {
   "cell_type": "markdown",
   "id": "23d547b5",
   "metadata": {},
   "source": [
    "5. 특징점 매칭\\\n",
    "특징점 매칭(feature point matching)\\\n",
    "- 두 영상에서 추출한 특징점 기술자를 비교하여 서로 유사한 기술자를 찾는 작업\\\n",
    "특징 벡터 유사도 측정 방법\\\n",
    "- 실수 특징 벡터: L2 노름(L2 norm)사용\\\n",
    "- 이진 특징 벡터: 해밍 거리 (hamming distance)사용\\\n"
   ]
  }
 ],
 "metadata": {
  "kernelspec": {
   "display_name": "Python 3",
   "language": "python",
   "name": "python3"
  },
  "language_info": {
   "codemirror_mode": {
    "name": "ipython",
    "version": 3
   },
   "file_extension": ".py",
   "mimetype": "text/x-python",
   "name": "python",
   "nbconvert_exporter": "python",
   "pygments_lexer": "ipython3",
   "version": "3.7.7"
  }
 },
 "nbformat": 4,
 "nbformat_minor": 5
}
