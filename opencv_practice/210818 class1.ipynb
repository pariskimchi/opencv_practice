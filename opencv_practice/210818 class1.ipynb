{
 "cells": [
  {
   "cell_type": "code",
   "execution_count": null,
   "id": "11e53609",
   "metadata": {},
   "outputs": [],
   "source": [
    "import cv2 \n",
    "import os \n",
    "import numpy as np\n",
    "\n",
    "def face_recog_train():\n",
    "    dataset_path = 'dataset/'\n",
    "    dirs = os.listdir(dataset_path) #dataset 하위 디렉토리 이름을 리스트에 넣는다\n",
    "    persons = []\n",
    "    \n",
    "    for dir in dirs: #각 디렉토리에 저장된 파일명들을 persons에 담음\n",
    "        if os.path.isdir(dataset_path+dir)\n",
    "            files = os.listdir(dataset_path+dir)\n",
    "            for idx, f in enumerate(files):\n",
    "                files[idx] = dataset_path+dir+'/'+f\n",
    "            persons.append(files)\n",
    "            \n",
    "    print(persons)\n",
    "    \n",
    "    classifiers = cv2.CascadeClassifier('haar/haarcascade_frontalface_alt2.xml')\n",
    "    recognizer = cv2.face.LBPHFaceRecognizer_create()\n",
    "    samples = [] # 학습 데이터\n",
    "    ids = [] # 레이블\n",
    "    \n",
    "    \n",
    "    \n",
    "    "
   ]
  }
 ],
 "metadata": {
  "kernelspec": {
   "display_name": "Python 3",
   "language": "python",
   "name": "python3"
  },
  "language_info": {
   "codemirror_mode": {
    "name": "ipython",
    "version": 3
   },
   "file_extension": ".py",
   "mimetype": "text/x-python",
   "name": "python",
   "nbconvert_exporter": "python",
   "pygments_lexer": "ipython3",
   "version": "3.7.7"
  }
 },
 "nbformat": 4,
 "nbformat_minor": 5
}
