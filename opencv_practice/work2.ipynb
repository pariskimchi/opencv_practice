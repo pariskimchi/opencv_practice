{
 "cells": [
  {
   "cell_type": "code",
   "execution_count": 1,
   "id": "78c6276c",
   "metadata": {},
   "outputs": [],
   "source": [
    "import cv2\n",
    "import numpy as np\n"
   ]
  },
  {
   "cell_type": "markdown",
   "id": "9e16081f",
   "metadata": {},
   "source": [
    "2. 카메라 앱(선택)\\\n",
    "사용스킬: opencv, thread, tkinter\\\n",
    "1)preview: 카메라 영상 실시간 재생\\\n",
    "2)사진찍기: preview 멈춤\\\n",
    "3)저장: 멈춘 영상을 입력한 파일명으로 파일 저장\\\n",
    "4)동영상찍기: preview 영상을 임시명으로 동영상 파일 만들어서 저장\\\n",
    "5) 동영상저장: 임시 저장한 파일을 사용자가 입력한 이름으로 파일명 변경"
   ]
  },
  {
   "cell_type": "code",
   "execution_count": 4,
   "id": "14664cf6",
   "metadata": {},
   "outputs": [],
   "source": [
    "# 1) preview\n",
    "\n",
    "def preview(flag):\n",
    "    flag = True\n",
    "    if not cap.isOpened():# cap.isOpen():카메라 정상오픈이면 True, 아니면 False\n",
    "        print('카메라 오픈 안됨')\n",
    "        sys.exit(0)\n",
    "        \n",
    "    cap = cv2.VideoCapture(0)\n",
    "    \n",
    "    cap.set(3,300)\n",
    "    cap.set(4,200)\n",
    "    while flag:\n",
    "        ret, frame = cap.read()\n",
    "        if ret: # 정상 읽기일때만\n",
    "            cv2.imshow('img',frame) #영상을 윈도우에 출력 \n",
    "        k = cv2.waitKey(1)\n",
    "        if k==27: #입력한 키가 esc이면\n",
    "            break\n",
    "    cap.release()\n",
    "    cv2.destroyAllWindows()"
   ]
  },
  {
   "cell_type": "code",
   "execution_count": 5,
   "id": "0d1c7305",
   "metadata": {},
   "outputs": [],
   "source": [
    "# 2) 사진찍기\n",
    "def photo():\n",
    "    \n",
    "    #카메라 오픈 여부 확인 \n",
    "    if not cap.isOpened():\n",
    "        print('카메라 오픈 안됨')\n",
    "        sys.exit(0)\n",
    "    \n",
    "    \n",
    "    cap= cv2.VideoCapture(0) #카메라 오픈\n",
    "    \n",
    "    cap.set(3,300)\n",
    "    cap.set(4,200)\n",
    "    \n",
    "    print('영상 가로 길이:', cap.get(3)) #cap.get(3):카메라 영상의 가로 길이 반환\n",
    "    print('영상 세로 길이:', cap.get(4)) #cap.get(4):카메라 영상의 세로 길이 반환\n",
    "    \n",
    "    ret,frame = cap.read()\n",
    "    if ret:\n",
    "        cv2.imwrite('new_pic.jpg',frame) #카메라 영상 저장\n",
    "        cv2.imshow('img',frame) # 영상 윈도우 출력\n",
    "        cv2.waitKey(0)\n",
    "        cap.release()\n",
    "        cv2.destroyAllWindows()\n"
   ]
  },
  {
   "cell_type": "code",
   "execution_count": 6,
   "id": "b72e02f3",
   "metadata": {},
   "outputs": [],
   "source": [
    "# 5) 영상 저장 \n",
    "def save_video():\n",
    "    cap = cv2.VideoCapture(0)\n",
    "    codec = cv2.VideoWriter_fourcc(*'DIVX')\n",
    "    \n",
    "    out = cv2.VideoWriter('a.avi',codec,25.0,(640,480))\n",
    "    while cap.isOpened():\n",
    "        ret,frame = cap.read() #카메라 영상 읽기 \n",
    "        if ret: #abs읽기가 정상이면\n",
    "            out.write(frame) # 동영상 작성\n",
    "            cv2.imshow('frame',frame)\n",
    "            if cv2.waitKey(0):\n",
    "                break\n",
    "        else:\n",
    "            break\n",
    "    cap.release()\n",
    "    out.release()\n",
    "    cv2.destroyAllWindows()"
   ]
  },
  {
   "cell_type": "code",
   "execution_count": null,
   "id": "330c17a2",
   "metadata": {},
   "outputs": [],
   "source": []
  }
 ],
 "metadata": {
  "kernelspec": {
   "display_name": "Python 3",
   "language": "python",
   "name": "python3"
  },
  "language_info": {
   "codemirror_mode": {
    "name": "ipython",
    "version": 3
   },
   "file_extension": ".py",
   "mimetype": "text/x-python",
   "name": "python",
   "nbconvert_exporter": "python",
   "pygments_lexer": "ipython3",
   "version": "3.7.7"
  }
 },
 "nbformat": 4,
 "nbformat_minor": 5
}
