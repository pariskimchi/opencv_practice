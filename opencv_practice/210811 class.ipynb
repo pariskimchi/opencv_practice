{
 "cells": [
  {
   "cell_type": "code",
   "execution_count": 3,
   "id": "d1884992",
   "metadata": {},
   "outputs": [],
   "source": [
    "import cv2 \n",
    "import numpy as np\n",
    "\n",
    "#영상 불러오기\n",
    "obj = cv2.imread('spades.png',cv2.IMREAD_GRAYSCALE) #찾을 이미지\n",
    "src = cv2.imread('symbols.png',cv2.IMREAD_GRAYSCALE) # 여러 도형\n",
    "\n",
    "\n",
    "# 객체 영상 외곽선 검출\n",
    "_, obj_bin  = cv2.threshold(obj,128,255,cv2.THRESH_BINARY_INV)\n",
    "obj_contours, _ = cv2.findContours(obj_bin, cv2.RETR_EXTERNAL, cv2.CHAIN_APPROX_NONE)\n",
    "obj_pts = obj_contours[0]\n",
    "\n",
    "# 입력 영상 분석\n",
    "_, src_bin = cv2.threshold(src,128,255,cv2.THRESH_BINARY_INV)\n",
    "contours, _ = cv2.findContours(src_bin, cv2.RETR_EXTERNAL, cv2.CHAIN_APPROX_NONE)\n",
    "\n",
    "#결과 영상 \n",
    "dst = cv2.cvtColor(src, cv2.COLOR_GRAY2BGR)\n",
    "\n",
    "# 입력 영상의 모든 객체 영역에 대해서 \n",
    "for pts in contours:\n",
    "    if cv2.contourArea(pts) < 1000:\n",
    "        continue\n",
    "    \n",
    "    rc = cv2.boundingRect(pts)\n",
    "    cv2.rectangle(dst, rc, (255,0,0),1)\n",
    "    \n",
    "    # 모양비교\n",
    "    dist = cv2.matchShapes(obj_pts, pts, cv2.CONTOURS_MATCH_I3, 0)\n",
    "    \n",
    "    cv2.putText(dst, str(round(dist,4)), (rc[0],rc[1]-3 ), \n",
    "                cv2.FONT_HERSHEY_SIMPLEX, 0.6, (255,0,0), 1, cv2.LINE_AA)\n",
    "    \n",
    "    if dist < 0.1:\n",
    "        cv2.rectangle(dst, rc, (0,0,255),2)\n",
    "        \n",
    "cv2.imshow('obj',obj)\n",
    "cv2.imshow('dst',dst)\n",
    "cv2.waitKey()\n",
    "cv2.destroyAllWindows()\n",
    "    \n"
   ]
  },
  {
   "cell_type": "markdown",
   "id": "cca483f2",
   "metadata": {},
   "source": [
    "### 템플릿 매칭\\\n",
    "템플릿 매칭(template matching)이란?\\\n",
    "입력 영상에서 (작은 크기의) 템플릿 영상과 일치하는 부분을 찾는 기법\\\n",
    "템플릿: 찾을 대상이 되는 작은 영상. 패치 (patch)\\\n",
    "\n",
    "템플릿 매칭함수\\\n",
    "cv2.matchTemplate(image,templ,method,result=None,mask=None) => res\\\n",
    "\n",
    "image: 입력 영상. \\\n",
    "templ: 템플릿 영상. image보다 같거나 작은 크기, 같은 타입\\\n",
    "method: 비교 방법. cv2.TM_으로 시작하는 플래그 지정\\\n",
    "\n",
    "TM_SQDIFF/ TM_SQDIFF_NORMED=> sum of squared difference\\\n",
    "TM_CCORR/ TM_CCORR_NORMED => Cross Correlation\\\n",
    "TM_CCOEFF/ TM_CCOEFF_NORMED => Correlation Coefficient\\\n",
    "res: 비교 결과 행렬. numpy.ndarray.type = numpy.float32, \\\n",
    "image의 크기가 w*h이고 templ의 크기가 w*h이면 \\\n",
    "result의 크기 (W-w+1)*(H-h+1)\n",
    "\n",
    "함수 반환값 res처리\\\n",
    "cv2.minMaxLoc()는 배열에서 가장 큰값, 작은 값과 그 위치 반환\\\n",
    "min_val, max_val, min_loc ,max_loc = cv2.minMaxLoc(res)"
   ]
  },
  {
   "cell_type": "code",
   "execution_count": null,
   "id": "11502e29",
   "metadata": {},
   "outputs": [],
   "source": []
  }
 ],
 "metadata": {
  "kernelspec": {
   "display_name": "Python 3",
   "language": "python",
   "name": "python3"
  },
  "language_info": {
   "codemirror_mode": {
    "name": "ipython",
    "version": 3
   },
   "file_extension": ".py",
   "mimetype": "text/x-python",
   "name": "python",
   "nbconvert_exporter": "python",
   "pygments_lexer": "ipython3",
   "version": "3.7.7"
  }
 },
 "nbformat": 4,
 "nbformat_minor": 5
}
